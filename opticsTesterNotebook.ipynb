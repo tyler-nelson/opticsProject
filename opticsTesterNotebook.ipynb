{
 "cells": [
  {
   "cell_type": "code",
   "execution_count": 2,
   "metadata": {
    "collapsed": true
   },
   "outputs": [],
   "source": [
    "# import statements for rest of notebook\n",
    "import matplotlib as mpl\n",
    "import matplotlib.pyplot as plt\n",
    "#plt.rc('text', usetex=True)\n",
    "plt.rc('font', family='serif')\n",
    "mpl.rcParams.update({'font.size': 20})\n",
    "mpl.rcParams['figure.figsize'] = 8,8\n",
    "import math as m   # importing math library outside function definition saves time \n",
    "import numpy as np\n",
    "from IPython.display import Image\n",
    "import scipy as sci\n",
    "from scipy.misc import derivative\n",
    "import scipy.optimize as opt\n",
    "import sympy as sym\n",
    "from numpy import pi\n",
    "from itertools import chain, repeat\n",
    "import warnings\n",
    "warnings.filterwarnings(\"ignore\")"
   ]
  },
  {
   "cell_type": "markdown",
   "metadata": {},
   "source": [
    "# Using Jupyter Notebooks to perform optical ray tracing\n",
    "### Things to know about this notebook:\n",
    "The goal of this notebook is to provide a toolbox that students or teachers could use to explore or demonstrate concepts in geometrical optics such as spherical abberation, chromatic abberation, and even the effects transmittance, reflectancs, and polarization effects. Ray tracing is the method of choice to achieve these objectives, and we have built in the ability to easily select some standard lens shapes, as well as to define your own custom lenses. The simulator is written such that it can be extended and tinkered with as the user sees fit. \n",
    "\n",
    "We have taken an object oriented approach to programming this simulator as it provides clarity into how the various parts interact. Throughout the notebook we will comment and annotate code to explain the more complicated segments and illustrate how all the pieces come together. "
   ]
  },
  {
   "cell_type": "markdown",
   "metadata": {},
   "source": [
    "### Useful uncategorized information  \n",
    "\n",
    "1. Coordinate System:\n",
    "    Currently the lenses are restricted to the first quandrant of the XY plane. Most examples are set up with the intended \n",
    "    direction of propagation in the +y direction. If we refer to things being below or above others, that is to say that the y\n",
    "    coordinate of the below item is less than the above object. \n",
    "\n",
    "2. Lenses:\n",
    "    Lenses are represented as a list[] of ordered pairs (domain, surfaces). Each ordered pair contains\n",
    "    a domain list and a surface list. The domain list defines a piecewise definition of the segment of the lens. \n",
    "    If multiple surfaces are present over one domain, they are given in no particular order. For clarity imagine the following:\n",
    "             -------f(x)-------\n",
    "    from x0  -------g(x)------- to x1 would be translated as [[x0,x1],[g,f]] where this is one element of the lens\n",
    "    \n",
    "    The lens (domain, surfaces) elements are ordered by the domain component. The domain for a given lens must be continuous. \n",
    "    Hence if we have the element [[x0,x1],[f1,g1]] then the next element should be [[x1,x2],[f2,g2]] where x2 > x1 and the \n",
    "    fi, gi's are surfaces defined over the given domains. \n",
    "    \n",
    "    Vertical lines require special attention. Many other curves in the xy plane may be represented as functions of x \n",
    "    but vertical lines cannot be. Hence we elected to give vertical lines a domain of x = c and the \n",
    "    surfaces are the y points that define the vertical line segment. This translates to the following:\n",
    "    \n",
    "    y1\n",
    "    |\n",
    "    |\n",
    "    |\n",
    "    |\n",
    "    |\n",
    "    |\n",
    "    |\n",
    "    |\n",
    "    y0 at x = x0 -> [[x0],[y0,y1]]\n",
    "    \n",
    "    The lens class has predefined lenses in it along with the capability to do gaussian optics as specified by the user.\n",
    "    \n",
    "3. Rays:\n",
    "    Rays are defined as a geometrical ray with a origin (source location) and an angle measured counter-clockwise from the horizonal (in radians). \n",
    "    \n",
    "4. RayGenerator:\n",
    "    This makes the initial list of rays that will propagate through the system. It can create point sources, (parallel) beam \n",
    "    sources, and converging (beam) sources. \n",
    "    \n",
    "5. Driver:\n",
    "    This class binds all of the constitutent parts together. It is responsible for handling ray propagation, ray reflection/\n",
    "    refraction, and plotting the results.\n",
    "\n",
    " "
   ]
  },
  {
   "cell_type": "markdown",
   "metadata": {
    "collapsed": true
   },
   "source": [
    "Our approach:\n",
    "\n",
    "    Surface Finding:\n",
    "        Each ray is modeled as a function of x (unless it's vertical) and each part of the lens is also. Hence we can use a\n",
    "        numerical root solver in the scipy optimize library to determine where the ray will cross the surface, if ever. We can \n",
    "        repeat this for every surface avaliable and take the surface which minimizes the distance from our orginial point as\n",
    "        this minimizes the optical path length and would therefore be the one the ray would actually follow. \n",
    "        \n",
    "        This code will not work for media whose index of refraction is position dependent.\n",
    "        \n",
    "    Refracting:\n",
    "        We employ snell's law as our method of refracting rays. To determine the normal vector we leverage the functional form \n",
    "        of our surfaces and calculate the normal vector based on differential calculus. Once we have that, we use the dot \n",
    "        product to calculate the angle of incidence and snell's law for the angle of transmission. Finally, to avoid the\n",
    "        complications induced from having several coordinate systems, we calculate the xy components of the refracted/reflected\n",
    "        ray by using the 2D rotation matrix for a vector. \n"
   ]
  },
  {
   "cell_type": "code",
   "execution_count": 9,
   "metadata": {
    "collapsed": true
   },
   "outputs": [],
   "source": [
    "'''\n",
    "The ray class is esentially a container for a variety of attributes associated with a light ray\n",
    "\n",
    "We have broken down which category each property best fits into\n",
    "this typically will indicate which part of the program will use the field although\n",
    "there may be overlap with other categories.\n",
    "\n",
    "Summary of fields:\n",
    "The light ray is defined in a mathematical sense as a normal ray which has an end point (source location) and an\n",
    "angle that provides the ray direction (denoted angle) measured CCW from the horizontal. \n",
    "\n",
    "Due to our method of determining where a ray will strike a surface. \n",
    "''' \n",
    "\n",
    "class Ray:\n",
    "    rayCount = 0\n",
    "    def __init__(self, x, y, angle, wavelength=0,identity=42, intensity=1, objIndex=-1):\n",
    "        \n",
    "        #vector quantities\n",
    "        self.sourceLocation = (x,y)\n",
    "        self.angle = angle\n",
    "        self.unitVector = [np.cos(angle), np.sin(angle)]\n",
    "        \n",
    "        #line quantities\n",
    "        self.slope = (self.unitVector[1]/self.unitVector[0])\n",
    "        self.yIntercept = y - x*self.slope # y = mx + b --> b = y - mx\n",
    "        self.xIntercept = - self.yIntercept/self.slope # x = -b/m\n",
    "        \n",
    "        #plot quantities\n",
    "        self.locationHistory = [self.sourceLocation] # keep track of the prevous interface points\n",
    "        self.angleHistory = [angle*180/np.pi]\n",
<<<<<<< HEAD
=======
    "        \n",
>>>>>>> origin/master
    "        \n",
    "        #light quantities\n",
    "        self.wavelength = wavelength\n",
    "        self.intensity = intensity\n",
    "        self.intensityList = [intensity]\n",
    "        self.parallel = 0.5\n",
    "        self.perpendicular = 0.5\n",
    "        \n",
    "        #program quantities\n",
    "        self.objIndex = -1\n",
    "        #self.identity = identity #this can be set up in the ray generator\n",
    "        self.identity = Ray.rayCount\n",
    "        Ray.rayCount+=1\n",
    "        self.reflected = 0\n",
    "        self.normalVectorHistory = []\n",
    "        self.worthUsing = 1\n",
    "        \n",
    "    def update_location_history(self, x, y, angle, objIndex):\n",
    "        \n",
    "        #update vector quantities:\n",
    "        self.sourceLocation = (x,y)\n",
    "        self.angle = angle\n",
    "        self.unitVector = [np.cos(angle),np.sin(angle)]\n",
    "        \n",
    "        #update line quantities\n",
    "        self.slope = (self.unitVector[1] / self.unitVector[0])\n",
    "        self.yIntercept = y - x*self.slope # y = mx + b --> b = y - mx\n",
    "        self.xIntercept = - self.yIntercept/self.slope # x = -b/m\n",
    "        \n",
    "        #update plot quantities\n",
    "        self.locationHistory.append((x,y))\n",
    "        self.angleHistory.append(angle*180/np.pi)\n",
    "        \n",
    "        #update program quantity\n",
    "        self.objIndex = objIndex\n",
    "        \n",
    "        \n",
    "    def rPerp(angleI, angleT):\n",
    "        return -np.sin(angleI-angleT)/np.sin(angleI+angleT)\n",
    "    def rPara(angleI, angleT):\n",
    "        return np.tan(angleI-angleT)/np.tan(angleI+angleT)\n",
    "    def tPerp(angleI, angleT):\n",
    "        return 2*np.sin(angleT)*np.cos(angleI)/np.sin(angleI+angleT)\n",
    "    def tPara(angleI,angleT):\n",
    "        return 2*np.sin(angleT)*np.cos(angleI)/(np.sin(angleI+angleT)*np.cos(angleI-angleT))\n",
    "    \n",
    "    #should be irradience\n",
    "    def update_intensity_history(self, angleI, angleT, nI, nT):\n",
    "        R = self.parallel*Ray.rPara(angleI,angleT)**2 + self.perpendicular*Ray.rPerp(angleI,angleT)**2\n",
    "        T = (nT(self.wavelength)*np.cos(angleT)/(nI(self.wavelength)*np.cos(angleI)))*(self.parallel*Ray.tPara(angleI,angleT)**2 + self.perpendicular*Ray.tPerp(angleI,angleT)**2)\n",
    "        if(angleI == angleT):\n",
    "            self.intensity*=R\n",
    "            self.intensityList.append(self.intensity)\n",
    "        else:\n",
    "            self.intensity*=T\n",
    "            self.intensityList.append(self.intensity)\n",
    "        \n",
    "    def printString(self):\n",
    "        return \"{0}\\n{1}\\n{2}\\n\".format(self.slope, self.xIntercept,np.asarray(self.angleHistory)*180/np.pi)"
   ]
  },
  {
   "cell_type": "code",
   "execution_count": 10,
   "metadata": {
    "collapsed": true
   },
   "outputs": [],
   "source": [
    "class RayGenerator:\n",
    "    def __init__(self, rayList):\n",
    "        self.theRayList = rayList\n",
    "        \n",
    "    @classmethod\n",
    "    def point_source(cls, x0, y0, numberOfRays, startAngle, stopAngle, startLambda=1, endLambda=1):\n",
    "        if startAngle == 0 and stopAngle == 2*np.pi:\n",
    "            theAngleList = np.linspace(startAngle, stopAngle, numberOfRays+1)\n",
    "        else:\n",
    "            theAngleList = np.linspace(startAngle, stopAngle, numberOfRays)\n",
    "        rayList = []\n",
    "        for i, angle in enumerate(theAngleList):#still have to put in the color code\n",
    "            rayList.append(Ray(x0,y0,angle, 0))\n",
    "        return cls(rayList)\n",
    "    \n",
    "    @classmethod\n",
    "    def beam_source(cls, x0, y0, x1, y1, numberOfRays, startLambda=1, endLambda=1):\n",
    "        if x1 - x0 == 0 and y1 - y0 == 0 :\n",
    "            raise(Exception(\"beam width must be non-zero\"))\n",
    "        rayAngle = np.arctan2((x1-x0),-(y1-y0))\n",
    "        xList, yList = np.linspace(x0, x1, numberOfRays), np.linspace(y0, y1, numberOfRays)\n",
    "        pointList = list(zip(xList, yList))\n",
    "        rayList = []\n",
    "        for i, point in enumerate(pointList):\n",
    "            rayList.append(Ray(point[0],point[1],rayAngle,0,identity=i))\n",
    "        return cls(rayList)\n",
    "    \n",
    "    @classmethod\n",
    "    def converging_source(cls, x0, y0, x1, y1, numberOfRays, startAngle, stopAngle, startLambda=1, endLambda=1):\n",
    "        if x1-x0 == 0 and y1-y0 == 0:\n",
    "            raise(Exception(\"converging beam width must be non-zero\"))\n",
    "        xList, yList = np.linspace(x0, x1, numberOfRays), np.linspace(y0, y1, numberOfRays)\n",
    "        pointList = list(zip(xList, yList))\n",
    "        theAngleList = np.linspace(startAngle, stopAngle, numberOfRays)\n",
    "        rayList = []\n",
    "        for i, point in enumerate(pointList):\n",
    "            rayList.append(Ray(point[0], point[1], theAngleList[i], 0))\n",
    "        return cls(rayList)\n",
    "        "
   ]
  },
  {
   "cell_type": "code",
<<<<<<< HEAD
   "execution_count": 116,
   "metadata": {
    "collapsed": true
   },
   "outputs": [],
   "source": [
    "class Mirror:\n",
    "    def __init__(self, surfaceList = [], lossFunction=lambda i : 0):\n",
    "        self.surfaceList = surfaceList\n",
    "        self.lossFunction = lossFunction\n",
    "    \n",
    "    @classmethod\n",
    "    def predefined(cls, name, lossFunction=lambda i : 0, xOffSet=0, yOffSet=0):\n",
    "        if(name == \"concave up\"):\n",
    "            f = lambda x : -(-(x-xOffSet)**2 + 9)**(1/2) + 5 + yOffSet\n",
    "            return cls(surfaceList =[[[0+xOffSet, 3+xOffSet],[f]]],lossFunction=lossFunction)\n",
    "        elif(name == \"concave down\"):\n",
    "            f = lambda x : (-(x-xOffSet)**2 + 16)**(1/2) + 5 + yOffSet\n",
    "            return cls(surfaceList =[[[0+xOffSet, 4+xOffSet],[f]]],lossFunction=lossFunction)\n",
    "        elif(name == \"horizontal\"):\n",
    "            f = lambda x : 4 + yOffSet\n",
    "            return cls(surfaceList = [[[0+xOffSet, 5+xOffSet], [f]]], lossFunction=lossFunction)\n",
    "        elif(name == \"vertical\"):\n",
    "            return cls(surfaceList = [[[3+xOffSet], [1+yOffSet, 6+yOffSet]]],lossFunction=lossFunction)\n",
    "        else:\n",
    "            raise(Exception(\"Unknown predefined case\\nThe acceptable cases are: concave up, concave down, vertical, and horizontal\"))\n",
    "    @classmethod\n",
    "    def gaussianOptics(cls, R=0, vertical=0, diameter=0, xOffSet=0, yOffSet=0, lossFunction = lambda i : 0):\n",
    "        if(diameter or R):\n",
    "            if(R > 0):\n",
    "                f = lambda x : -(-(x-xOffSet)**2 + R*R)**(1/2) + yOffSet\n",
    "                if(diameter):\n",
    "                    if(diameter < 2*R):\n",
    "                        return cls(surfaceList=[[[xOffSet-diameter/2, xOffSet+diameter/2],[f]]],lossFunction=lossFunction)\n",
    "                    else:\n",
    "                        raise(Exception(\"This diameter exceeds the domain of the mirror surface\"))\n",
    "                return cls([[[xOffSet-R, xOffSet+R],[f]]],lossFunction =lossFunction)\n",
    "            elif(R < 0):\n",
    "                R *= -1\n",
    "                f = lambda x : (-(x-xOffSet)**2 + R**2)**(1/2) + yOffSet\n",
    "                if(diameter):\n",
    "                    if(diameter < 2*R):\n",
    "                        return cls(surfaceList=[[[xOffSet-diameter/2, xOffSet+diameter/2],[f]]],lossFunction=lossFunction)\n",
    "                    else:\n",
    "                        raise(Exception(\"This diameter exceeds the domain of the mirror surface\"))\n",
    "                return cls(surfaceList=[[[xOffSet-R, xOffSet+R],[f]]],lossFunction=lossFunction)\n",
    "            elif(R == 0 and diameter):\n",
    "                if(vertical):\n",
    "                    return cls(surfaceList=[[[xOffSet],[yOffSet-diameter/2, yOffSet+diameter/2]]])\n",
    "                return cls(surfaceList = [[[xOffSet-diameter/2,xOffSet+diameter/2], [lambda x : 3+yOffSet]]])\n",
    "        else:\n",
    "            raise(Exception(\"The diameter needs to be specified for a planar mirror\"))\n",
    "    @classmethod\n",
    "    def custom(cls,surfaceList,lossFunction=lambda i:0):\n",
    "        return cls(surfaceList=surfaceList,lossFunction=lossFunction)\n",
    "            \n",
    "                        \n",
    "        "
   ]
  },
  {
   "cell_type": "code",
   "execution_count": 117,
=======
   "execution_count": 4,
>>>>>>> origin/master
   "metadata": {
    "collapsed": true
   },
   "outputs": [],
   "source": [
    "#change the vertical line handling so that the second list are the value of the bounding functions\n",
    "#this amounts to a scaffolding in which each case though be tested in case errors were made\n",
    "\n",
    "#add more details as to what all of this is such as what r1 r2 etc are\n",
    "#also change the parameter names of height and width to diameter and thickness repectively\n",
    "\n",
    "########### comence commenting extravaganza ################# delayed, doubly delayed\n",
    "\n",
    "\n",
    "\n",
    "\n",
    "\n",
    "class Lens:\n",
    "    def __init__(self,surfaceList=[],n=lambda x : 1.5):\n",
    "        \n",
    "        self.refractiveIndex = n\n",
    "        self.surfaceList = surfaceList\n",
    "\n",
    "    @classmethod\n",
    "    def predefined(cls, name, nFunction=lambda x : 1.5, xOffSet=0, yOffSet=0):#I should probably include the r1, r2, height, and width values in these examples\n",
    "        '''\n",
    "        Here is a series of predefined surfaces that could be used as examples of the behavior of each lens type\n",
    "        They also provide concrete models of what is generalized in the gaussian optics section below so that \n",
    "        someone wishing to use the code could troubleshoot via mimicing the structure shown below\n",
    "        '''\n",
    "        #should probably change the convex parts so that they reflect the updated methodology\n",
    "        if(name == \"biconvex\"):\n",
    "            f1 = lambda x : -(-(x-5-xOffSet)**2 + 9)**(1/2) + 5 + yOffSet\n",
    "            f2 = lambda x : (-(x-5-xOffSet)**2 + 9)**(1/2) + 1 +yOffSet\n",
    "            x0 = opt.fsolve(lambda x: f1(x)-f2(x), 2+xOffSet, xtol=1e-10, maxfev=200)\n",
    "            x1 = opt.fsolve(lambda x: f1(x)-f2(x), 7+xOffSet, xtol=1e-10, maxfev=200)\n",
    "            return cls(surfaceList = [[[x0[0],x1[0]],[f1,f2]]],n=nFunction)\n",
    "\n",
    "        elif(name == \"biconcave\"):\n",
    "            mySurfaceList = []\n",
    "            f1 = lambda x : (-(x-5-xOffSet)**2 + 9)**(1/2) + 1 +yOffSet\n",
    "            f2 = lambda x : -(-(x-5-xOffSet)**2 + 9)**(1/2) + 8 + yOffSet\n",
    "            \n",
    "            mySurfaceList.append([[3+xOffSet],[f1(3+xOffSet),f2(3+xOffSet)]])\n",
    "            mySurfaceList.append([[3+xOffSet,7+xOffSet],[f1,f2]])\n",
    "            mySurfaceList.append([[7+xOffSet],[f1(7+xOffSet),f2(7+xOffSet)]])\n",
    "            return cls(surfaceList=mySurfaceList,n=nFunction)  \n",
    "\n",
    "        elif(name == \"planar convex\"):\n",
    "            f1 = lambda x : -(-(x-5-xOffSet)**2 + 9)**(1/2) + 5 + yOffSet\n",
    "            f2 = lambda x : 3 + yOffSet\n",
    "            x0 = opt.fsolve(lambda x: f1(x)-f2(x), 2+xOffSet, xtol=1e-10, maxfev=200)\n",
    "            x1 = opt.fsolve(lambda x: f1(x)-f2(x), 7+xOffSet, xtol=1e-10, maxfev=200)\n",
    "            return cls(surfaceList = [[[x0[0],x1[0]],[f1,f2]]],n=nFunction)\n",
    "\n",
    "        elif(name == \"planar concave\"):\n",
    "            mySurfaceList = []\n",
    "            f1 = lambda x : (-(x-5-xOffSet)**2 + 9)**(1/2) + 1 +yOffSet\n",
    "            f2 = lambda x : 6 + yOffSet\n",
    "            mySurfaceList.append([[3+xOffSet],[f1(3+xOffSet),f2(3+xOffSet)]])\n",
    "            mySurfaceList.append([[3+xOffSet,7+xOffSet],[f1,f2]])\n",
    "            mySurfaceList.append([[7+xOffSet],[f1(7+xOffSet),f2(7+xOffSet)]])\n",
    "            return cls(surfaceList=mySurfaceList, n=nFunction)\n",
    "\n",
    "        elif(name == \"meniscus convex\"):\n",
    "            f1 = lambda x: -(-(x-5-xOffSet)**2 + 16)**(1/2) + 6+yOffSet\n",
    "            f2 = lambda x : -(-(x-5-xOffSet)**2 + 36)**(1/2) + 9+yOffSet\n",
    "            x0 = opt.fsolve(lambda x: f1(x)-f2(x), 2+xOffSet, xtol=1e-10, maxfev=200)\n",
    "            x1 = opt.fsolve(lambda x: f1(x)-f2(x), 8+xOffSet, xtol=1e-10, maxfev=200)\n",
    "            return cls(surfaceList = [[[x0[0],x1[0]],[f1,f2]]],n=nFunction)\n",
    "\n",
    "        elif(name == \"meniscus concave\"):#I could save using the append opperation and memory initialization by just expliciting spelling out what I wanted my list to be\n",
    "            mySurfaceList = []\n",
    "            f1 = lambda x : -(-(x-5-xOffSet)**2 + 9)**(1/2) + 4.5+ yOffSet\n",
    "            f2 = lambda x : -(-(x-5-xOffSet)**2 + 49)**(1/2) + 8 + yOffSet\n",
    "            mySurfaceList.append([[3+xOffSet],[f1(3+xOffSet),f2(3 + xOffSet)]])\n",
    "            mySurfaceList.append([[3+xOffSet,7+xOffSet],[f1,f2]])\n",
    "            mySurfaceList.append([[7+xOffSet],[f1(7+xOffSet),f2(7 + xOffSet)]])\n",
    "            return cls(surfaceList = mySurfaceList,n=nFunction)\n",
    "        else:\n",
    "            raise(Exception(\"Unknown lens type, please enter one of the following:\\nbiconvex, biconcave, planar convex, planar concave, meniscus convex, meniscus concave\"))\n",
    "    \n",
    "    \n",
    "    #put in a max option so that we can easily get the lens as wide as possible for a given set of radii\n",
    "    #also we need the meniscus convex and concave cases for negative radii\n",
    "    # work on expanding the convex cases so that they can handle lens with thickness greater than what then surfaces intersecting would normally allow\n",
    "    @classmethod\n",
    "    def gaussianOptics(cls,r1=0,r2=0,thickness=0,diameter=0,xOffSet=0,yOffSet=0,nFunction=lambda x:1.5):\n",
    "        '''\n",
    "        The basic stucture of this function is to deal with the various gaussian optics inputs we could recieve and handle them appropriately\n",
    "        After some error handling most cases take on the following characteristic structure:\n",
    "        \n",
    "        if not explicit, applies to both\n",
    "        \n",
    "        * for concave: ensure enough information is provided\n",
    "        * determine rmax for plotting and doing math later\n",
    "        * define the two surface functions\n",
    "        * for convex: determine where the surfaces intersect\n",
    "        * use the helper method to concisely construct our surface data \n",
    "    \n",
    "        '''\n",
    "        \n",
    "        def abrvFunc(r1,r2,f1,f2,diameter,x0=0,x1=0,xOffSet=0, thickness=0): #this is a helper function to make the code more readable(or less eye watering if you prefer)\n",
    "            rmax = max(r1,r2)\n",
    "            if(x0 != 0 or x1 != 0):\n",
    "                if(abs(x1[0]-x0[0]) <= diameter):#we can either raise an exception or just use the maximal diameter\n",
    "                    raise(Exception(\"this diameter exceeds the limitations imposed by the specified diameter\"))\n",
    "            xmin = rmax - diameter/2\n",
    "            xmax = rmax + diameter/2\n",
    "            mySurfaceList = [[[xmin+xOffSet],sorted([f1(xmin+xOffSet),f2(xmax+xOffSet)])]]\n",
    "            mySurfaceList.append([[xmin+xOffSet,xmax+xOffSet],[f1,f2]])\n",
    "            mySurfaceList.append([[xmax+xOffSet],sorted([f1(xmax+xOffSet),f2(xmax+xOffSet)])])\n",
    "            return mySurfaceList\n",
    "        \n",
    "        def widthHandler(f1, f2, x0, x1, surfaceList):\n",
    "            f1y0, f1y1, f2y0, f2y1 = f1(x0), f1(x1), f2(x0), f2(x1)\n",
    "            if(f1y0 < f2y0 - 0.001 or f1y0 > f2y0 + 0.001):\n",
    "                surfaceList.insert(0,[[x0],sorted([f1y0, f2y0])])\n",
    "            if(f1y1 < f2y1 - 0.001 or f1y1 > f2y1 + 0.001):\n",
    "                surfaceList.append([[x1],sorted([f1y1, f2y1])])\n",
    "        \n",
    "        if(((r1 or r2 or diameter) and thickness) or ((r1 or r2) and diameter) or (r1 and r2)):#this should say that at least two of the following(r1,r2,width,height) \n",
    "            #have to be given \n",
    "            \n",
    "            if(thickness < 0 or diameter < 0): #deal with negative width\n",
    "                raise(Exception(\"width and height are constrained to be greater than or equal to zero\"))\n",
    "            \n",
    "            elif(thickness == 0 and diameter == 0 ):\n",
    "                raise(Exception(\"at minimum a width or height must be specified for a lens along with r1 or r2\"))\n",
    "            \n",
    "            elif(r1 > 0 and r2 > 0 and r1 < r2):#meniscus convex case 1 #fixed\n",
    "                if(not thickness):\n",
    "                    thickness = abs(r1-(r1**2 - diameter**2/4)**(1/2) - r2 + (r2**2-diameter**2/4)**(1/2))\n",
    "                rmax = r2\n",
    "                f1 = lambda x : -(-(x-rmax-xOffSet)**2 + r1**2)**(1/2) + rmax+1 +yOffSet -r2 + r1 - thickness\n",
    "                f2 = lambda x : -(-(x-rmax-xOffSet)**2 + r2**2)**(1/2) + rmax+1 +yOffSet\n",
    "                d = -r1 + r2 + thickness\n",
    "                if(d < 0):\n",
    "                    d = -d\n",
    "                elif(d == 0):\n",
    "                    d = 0.001\n",
    "                a = (1/d)*(4*d**2*r1**2 - (d**2 - r2**2 + r1**2)**2)**(1/2)\n",
    "                x = (d**2 - r2**2 + r1**2)/(2*abs(d))\n",
    "                x0 = [-a/2 +rmax + xOffSet]\n",
    "                x1 = [a/2 + rmax + xOffSet]\n",
    "                if(diameter):\n",
    "                    return cls(surfaceList=abrvFunc(r1,r2,f1,f2,diameter,x0,x1,xOffSet=xOffSet),n=nFunction)\n",
    "                surfaceList = [[[x0[0],x1[0]],[f1,f2]]]\n",
    "                widthHandler(f1,f2,x0[0],x1[0],surfaceList)\n",
    "                return cls(surfaceList = surfaceList,n=nFunction)\n",
    "                \n",
    "            elif(r1 < 0 and r2 < 0 and r2 > r1): #meniscus convex case 2 #fixed I think\n",
    "                if(not thickness):\n",
    "                    thickness = abs(r1-(r1**2 - diameter**2/4)**(1/2) - r2 + (r2**2-diameter**2/4)**(1/2))\n",
    "                r1, r2 = -r1,-r2\n",
    "                rmax = r1\n",
    "                f1 = lambda x : (-(x-rmax-xOffSet)**2 + r1**2)**(1/2) + 1 +yOffSet \n",
    "                f2 = lambda x : (-(x-rmax-xOffSet)**2 + r2**2)**(1/2) +1 +yOffSet + r1 + thickness - r2\n",
    "                d = r1 - r2 + thickness\n",
    "                if(d < 0):\n",
    "                    d = -d\n",
    "                elif(d == 0):\n",
    "                    d = 0.001\n",
    "                a = (1/d)*(4*d**2*r1**2 - (d**2 - r2**2 + r1**2)**2)**(1/2)\n",
    "                x = (d**2 - r2**2 + r1**2)/(2*abs(d))\n",
    "                x0 = [-a/2 +rmax + xOffSet]\n",
    "                x1 = [a/2 + rmax + xOffSet]\n",
    "                if(diameter):\n",
    "                    return cls(surfaceList=abrvFunc(r1,r2,f1,f2,diameter,x0,x1,xOffSet=xOffSet),n=nFunction)\n",
    "                surfaceList = [[[x0[0],x1[0]],[f1,f2]]]\n",
    "                widthHandler(f1,f2,x0[0],x1[0],surfaceList)\n",
    "                return cls(surfaceList = surfaceList,n=nFunction)\n",
    "                \n",
    "            elif(r1 > 0 and r2 == 0):#plano-convex case 1 #fixed\n",
    "                if(not thickness):\n",
    "                    thickness = abs(r1-(r1**2-diameter**2/4)**(1/2))\n",
    "                rmax = r1\n",
    "                f1 = lambda x : -(-(x-rmax-xOffSet)**2 + r1**2)**(1/2) + 1 +yOffSet+rmax\n",
    "                f2 = lambda x : 1+yOffSet + thickness\n",
    "                d = rmax - thickness\n",
    "                b = -2*(rmax+xOffSet)\n",
    "                c = d**2 + (rmax+xOffSet)**2 - rmax**2\n",
    "                x0 = [(-b-(b**2 - 4*c)**(1/2))/2]\n",
    "                x1 = [(-b+(b**2 - 4*c)**(1/2))/2]\n",
    "                \n",
    "                if(diameter):    \n",
    "                    return cls(surfaceList=abrvFunc(r1,r2,f1,f2,diameter,x0,x1,xOffSet=xOffSet),n=nFunction)\n",
    "                surfaceList = [[[x0[0],x1[0]],[f1,f2]]]\n",
    "                widthHandler(f1,f2,x0[0],x1[0],surfaceList)\n",
    "                return cls(surfaceList = surfaceList,n=nFunction)\n",
    "            \n",
    "            elif(r1 > 0 and r2 < 0):#biconvex #fixed\n",
    "                r2 = -r2\n",
    "                if(not thickness):\n",
    "                    thickness = abs(r1-(r1**2-diameter**2/4)**(1/2)) + abs(r2-(r2**2-diameter**2/4)**(1/2))\n",
    "                rmax = max(r1, r2)\n",
    "                rmin = min(r1,r2)\n",
    "                f1 = lambda x : -(-(x-rmax-xOffSet)**2 + r1**2)**(1/2) + rmax+1+yOffSet\n",
    "                f2 = lambda x : (-(x-rmax-xOffSet)**2 + r2**2)**(1/2) + rmax+1 + thickness-r1-r2+yOffSet\n",
    "                d = r1 + r2 - thickness\n",
    "                if(d < 0):\n",
    "                    d = -d\n",
    "                elif(d == 0):\n",
    "                    d = 0.001\n",
    "                a = (1/d)*(4*d**2*r1**2 - (d**2 - r2**2 + r1**2)**2)**(1/2)\n",
    "                x = (d**2 - r2**2 + r1**2)/(2*abs(d))\n",
    "                x0 = [-a/2 +rmax + xOffSet]\n",
    "                x1 = [a/2 + rmax + xOffSet]\n",
    "                if(diameter):\n",
    "                    return cls(surfaceList=abrvFunc(r1,r2,f1,f2,diameter,x0,x1,xOffSet=xOffSet),n=nFunction)\n",
    "                surfaceList = [[[x0[0],x1[0]],[f1,f2]]]\n",
    "                widthHandler(f1,f2,x0[0],x1[0],surfaceList)\n",
    "                return cls(surfaceList = surfaceList,n=nFunction)\n",
    "\n",
    "            elif(r1 == 0 and r2 > 0):#plano-concave case 1\n",
    "                if(diameter == 0 or thickness == 0):\n",
    "                    raise(Exception(\"Insufficient information provided for concave class object, both diameter and thickness must be postive\"))\n",
    "                rmax = r2\n",
    "                f1 = lambda x : 1+yOffSet-thickness\n",
    "                f2 = lambda x : -(-(x-rmax-xOffSet)**2 + r2**2)**(1/2) + 1+rmax+yOffSet\n",
    "                return cls(surfaceList=abrvFunc(r1,r2,f1,f2,diameter,xOffSet=xOffSet),n=nFunction) \n",
    "\n",
    "            elif(r1 == 0 and r2 == 0):#rectangle\n",
    "                mySurfaceList = [[[1+xOffSet],[1+yOffSet,thickness+1+yOffSet]]]\n",
    "                mySurfaceList.append([[1+xOffSet,diameter+1+xOffSet],[lambda x : 1+yOffSet, lambda x : thickness+1+yOffSet]])\n",
    "                mySurfaceList.append([[diameter+1+xOffSet],[1+yOffSet,thickness+1+yOffSet]])\n",
    "                return cls(surfaceList=mySurfaceList,n=nFunction)\n",
    "\n",
    "            elif(r1 == 0 and r2 < 0):#plano-convex case 2\n",
    "                if(not thickness):\n",
    "                    thickness = abs(r2-(r2**2-diameter**2/4)**(1/2))\n",
    "                r2 = -r2\n",
    "                rmax = r2\n",
    "                f1 = lambda x : (-(x-rmax-xOffSet)**2 + r2**2)**(1/2) +1+yOffSet \n",
    "                f2 = lambda x : 1+yOffSet+r2-thickness\n",
    "                d = rmax - thickness\n",
    "                b = -2*(rmax+xOffSet)\n",
    "                c = d**2 + (rmax+xOffSet)**2 - rmax**2\n",
    "                x0 = [(-b-(b**2 - 4*c)**(1/2))/2]\n",
    "                x1 = [(-b+(b**2 - 4*c)**(1/2))/2]\n",
    "                if(diameter):\n",
    "                    return cls(surfaceList=abrvFunc(r1,r2,f1,f2,diameter,x0,x1,xOffSet=xOffSet),n=nFunction)\n",
    "                surfaceList = [[[x0[0],x1[0]],[f1,f2]]]\n",
    "                widthHandler(f1,f2,x0[0],x1[0],surfaceList)\n",
    "                return cls(surfaceList = surfaceList,n=nFunction)\n",
    "                \n",
    "            elif(r1 < 0 and r2 > 0):#biconcave\n",
    "                if(diameter == 0 or thickness == 0):\n",
    "                    raise(Exception(\"Insufficient information provided for concave class object, both diameter and thickness must be positive\"))\n",
    "                r1 = -r1\n",
    "                rmax = max(r1,r2)\n",
    "                f1 = lambda x : (-(x-rmax-xOffSet)**2 + r1**2)**(1/2) + rmax+1+yOffSet\n",
    "                f2 = lambda x : -(-(x-rmax-xOffSet)**2 + r2**2)**(1/2) + rmax+1 + thickness +r1+r2+yOffSet\n",
    "                return cls(surfaceList=abrvFunc(r1,r2,f1,f2,diameter,xOffSet=xOffSet),n=nFunction)\n",
    "\n",
    "            elif(r1 < 0 and r2 == 0):#plano-concave case 2\n",
    "                if(diameter == 0 or thickness == 0):\n",
    "                    raise(Exception(\"Insufficient information provided for concave class object, both diameter and thickness must be positive\"))\n",
    "                r1 = -r1\n",
    "                rmax = r1\n",
    "                f1 = lambda x : (-(x-rmax-xOffSet)**2 + r1**2)**(1/2) + 1+yOffSet\n",
    "                f2 = lambda x : 1 + r1 + thickness+yOffSet\n",
    "                return cls(surfaceList=abrvFunc(r1,r2,f1,f2,diameter,xOffSet=xOffSet),n=nFunction)\n",
    "            \n",
    "            elif(r1 > 0 and r2 > 0):#meniscus concave case 1\n",
    "                if(diameter == 0 or thickness == 0):\n",
    "                    raise(Exception(\"Insufficient information provided for concave class object, both diameter and thickness must be positive\"))\n",
    "                rmax = r1\n",
    "                f1 = lambda x : -(-(x-rmax-xOffSet)**2 + r1**2)**(1/2) + rmax+1+yOffSet\n",
    "                f2 = lambda x : -(-(x-rmax-xOffSet)**2 + r2**2)**(1/2) + rmax+1 - thickness + r2 - r1+yOffSet\n",
    "                if(diameter < 2*r2):#reasonable diameter\n",
    "                    return cls(surfaceList=abrvFunc(r1,r2,f1,f2,diameter,xOffSet=xOffSet),n=nFunction)\n",
    "                else:#unreasonable diameter\n",
    "                    raise(Exception(\"This is an unreasonable diameter for a meniscus concave lens\"))\n",
    "            elif(r1 < 0 and r2 < 0): #meniscus concave case 2\n",
    "                r1, r2 = -r1, -r2\n",
    "                if(diameter == 0 or thickness == 0):\n",
    "                    raise(Exception(\"Insufficient information provided for concave class object, both diameter and thickness must be positive\"))\n",
    "                rmax = r2\n",
    "                f1 = lambda x : (-(x-rmax-xOffSet)**2 + r1**2)**(1/2) +1 + yOffSet\n",
    "                f2 = lambda x : (-(x-rmax-xOffSet)**2 + r2**2)**(1/2) + 1 - thickness - r2 + r1 + yOffSet\n",
    "                if(diameter < 2*r1):#reasonable diameter\n",
    "                    return cls(surfaceList=abrvFunc(r1,r2,f1,f2,diameter,xOffSet=xOffSet),n=nFunction)\n",
    "                else:#unreasonable diameter\n",
    "                    raise(Exception(\"This is an unreasonable diameter for a meniscus concave lens\"))\n",
    "        else:\n",
    "            raise(Exception(\"Not enough information supplied or diameter and thickness are 0 which is impossible\"))#probably should print inputs\n",
    "        \n",
    "    #unsure how much burden I want to put on the user\n",
    "    #we could take a dictionary of inputs which might be more readable but that might also make the whole process more complicated\n",
    "    #insofar as translating that dictionary set up into our list structure\n",
    "    @classmethod\n",
    "    def custom(cls,mySurfaceList,nFunction=lambda x:1.5):\n",
    "        return cls(surfaceList=mySurfaceList,n=nFunction)\n",
    "    #there should probably some rhobust error checking for dealing with the defined surfaces\n",
    "    \n"
   ]
  },
  {
   "cell_type": "code",
<<<<<<< HEAD
   "execution_count": 118,
=======
   "execution_count": 5,
>>>>>>> origin/master
   "metadata": {
    "collapsed": true
   },
   "outputs": [],
   "source": [
    "#[([xStart,xStop],[func1, func2]),...]"
   ]
  },
  {
   "cell_type": "code",
<<<<<<< HEAD
   "execution_count": 119,
=======
   "execution_count": 22,
>>>>>>> origin/master
   "metadata": {
    "collapsed": true
   },
   "outputs": [],
   "source": [
    "class driver:\n",
    "    \n",
    "    def __init__(self, n, listOfRays, listOfLenses=[], listOfMirrors=[]):\n",
    "        self.nMedium = n\n",
    "        self.listOfRays = listOfRays\n",
    "        self.mapOfLenses = {i : listOfLenses[i] for i in range(len(listOfLenses))}\n",
    "        self.listOfMirrors = listOfMirrors\n",
    "        #print(self.mapOfLenses)\n",
    "        self.listOfLenses = listOfLenses\n",
    "        self.surfaceList = []\n",
    "        for i in range(len(listOfLenses)):\n",
    "            self.surfaceList += listOfLenses[i].surfaceList\n",
    "        for i in listOfMirrors:\n",
    "            self.surfaceList += i.surfaceList\n",
    "        for i in listOfRays:\n",
    "            i.objIndex = self.locatingIndexFunction(i.sourceLocation)\n",
    "                            \n",
    "    def locatingIndexFunction(self, sourceLocation):\n",
    "        x,y = sourceLocation\n",
    "        mapOfLenses = self.mapOfLenses\n",
    "        for label, lens in mapOfLenses.items():\n",
    "            for orderedPair in lens.surfaceList:\n",
    "                domain, surfaces = orderedPair\n",
    "                if(len(domain) == 1):\n",
    "                    if(len(surfaces) == 2):\n",
    "                        if(x > domain[0]-0.001 and x < domain[0]+0.001 and y > surfaces[0] and y < surfaces[1]):\n",
    "                            return label\n",
    "                    else:\n",
    "                        print(\"this is the pathelogical broken lens case\")\n",
    "                        raise(Exception(\"I haven't implemented this yet\"))\n",
    "                else:\n",
    "                    if(x > domain[0] and x < domain[1]):#this could still be pathelogical \n",
    "                        for m in range(0,len(surfaces),2):\n",
    "                            f1, f2 = surfaces[m], surfaces[m+1] #I assume that odd numbers of surfaces shouldn't be possible\n",
    "                            lB, uB = sorted([f1(x),f2(x)])\n",
    "                            if(lB < y and uB > y ):\n",
    "                                return label\n",
    "        return -1\n",
    "                                \n",
    "    def rayFunc(self):\n",
    "        '''\n",
    "        Here are some helper functions. \n",
    "        normalVectorFunc - produces normal vectors to surfaces using calculus\n",
    "        thetaCritical - determines what the critical angle is for two media\n",
    "        rayIntersectSurface - determines if a ray will intersect a surface \n",
    "        \n",
    "        '''\n",
    "        def normalVectorFunc(function, value): # Value is the x value where the given ray intersects the lens surface\n",
    "            fprime = derivative(function, value, dx=1e-13, order=21)\n",
    "            return [-fprime/(1+fprime**2)**(0.5),1/(1+fprime**2)**(0.5)]\n",
    "        \n",
    "        def thetaCritical(n1, n2):#these should be effective indices in the case where they are functions\n",
    "            return np.arcsin(n2/n1)\n",
    "        \n",
    "        #expected inputs for line: [slope, x intercept], surface is a function, value is a reasonable estimate for where the zero occurs\n",
    "        def rayIntersectSurface(line, surface, value): \n",
    "            return opt.fsolve(func=lambda x: surface(x)-x*line[0] + line[0]*line[1], x0=value, xtol=1e-10, maxfev=200, factor=1)#f(x) - m(x-x0) = 0\n",
    "        \n",
    "        def refractedRayFunction(normalVector, angle, isNegative):\n",
    "            xN, yN = normalVector\n",
    "            if(isNegative):\n",
    "                xN, yN = -xN, -yN\n",
    "            refractedRay1 = [xN*np.cos(-theta2) - yN*np.sin(-theta2), xN*np.sin(-theta2) + yN*np.cos(-theta2)]\n",
    "            refractedRay2 = [xN*np.cos(theta2) - yN*np.sin(theta2), xN*np.sin(theta2) + yN*np.cos(theta2)]\n",
    "            return refractedRay1, refractedRay2\n",
    "        #lets make it more modular :D\n",
    "        def surfaceFinderPart(ray, listOfElements):\n",
    "            x0,y0 = ray.sourceLocation\n",
    "            minDistance = 1e10\n",
    "            minDistSurface = -1\n",
    "            xMin, yMin = -1,-1\n",
    "            for element in listOfElements:\n",
    "                listOfSurfaces = element.surfaceList\n",
    "                for s in range(len(listOfSurfaces)):\n",
    "                    domain, surfaces = listOfSurfaces[s]\n",
    "                    #should add the shifted case, where there are two line segments \n",
    "                    if(len(domain) == 1):#this is a vertical line \n",
    "                        pointOfIntersection = ray.slope*domain[0] + ray.yIntercept\n",
    "                        if(pointOfIntersection >= surfaces[0] and pointOfIntersection <= surfaces[1]):\n",
    "                            distance = ((domain[0]-x0)**2 + (pointOfIntersection-y0)**2)**(1/2)\n",
    "                            checkAngle = np.arctan2(pointOfIntersection-y0,domain[0]-x0)\n",
    "                            rayAngle = ray.angle\n",
    "                            if(checkAngle < 0):\n",
    "                                checkAngle += 2*pi\n",
    "                            if(checkAngle > rayAngle+0.001 or checkAngle < rayAngle-0.001): #this ray intersection is clearly bad so disregard it\n",
    "                                continue\n",
    "                            if(distance < minDistance and distance > 0.001):\n",
    "                                minDistance = distance\n",
    "                                xMin, yMin = domain, pointOfIntersection\n",
    "                                minDistSurface = [domain[0],surfaces[:2]] #I use this as the label to differentiate between the vertical line case and the rest\n",
    "                        elif(len(surfaces) == 4):\n",
    "                            print(\"update this part with the pieces from above \")\n",
    "                            if(pointOfIntersection >= surfaces[2] and pointOfIntersection <= surfaces[3]):\n",
    "                                distance = ((domain[0]-x0)**2 + (pointOfIntersection-y0)**2)**(1/2)\n",
    "                                if(distance < minDistance and distance > 0.001):\n",
    "                                    minDistance = distance\n",
    "                                    xMin, yMin = domain, pointOfIntersection\n",
    "                                    minDistSurface = [domain[0],surfaces[2:4]]\n",
    "                    #should probably include error checking to ensure that the length of any of these domain lists is either 1 or 2 \n",
    "                    else:#we're not working with a vertical line\n",
    "                        #given a domain (a,b), my strategy is to use fsolve with an intial guess of (a+b)/2, if the ray happens to already be on the\n",
    "                        #surface, we refine the search by splitting the surface into eighths\n",
    "                        if(x0 > domain[0] and x0 < domain[1]):\n",
    "                            initial_guess = [i*(domain[0]+domain[1])/8 for i in range(1,8)] #somewhat arbitarily chose to split the domain into eighths \n",
    "                        else:\n",
    "                            initial_guess = [(domain[0]+domain[1])/2]\n",
    "                        for guess in initial_guess:\n",
    "                            for i in range(len(surfaces)):#we have to loop over all the surfaces defined on this domain\n",
    "                                surface_i = surfaces[i]\n",
    "                                listOfPointsOfIntersection = rayIntersectSurface([ray.slope, ray.xIntercept], surface_i, guess)\n",
    "                                #I think the best point is going to be the first one on the list, this may be wrong\n",
    "                                a, b = domain\n",
    "                                for pointOfIntersection in listOfPointsOfIntersection:\n",
    "                                    if(pointOfIntersection > a and pointOfIntersection < b):\n",
    "                                        #we've got a valid intersection\n",
    "                                        y1 = surface_i(pointOfIntersection)\n",
    "                                        distance = ((pointOfIntersection-x0)**2 + (y1-y0)**2)**(1/2)\n",
    "                                        checkAngle = np.arctan2(y1-y0,pointOfIntersection-x0)\n",
    "                                        rayAngle = ray.angle\n",
    "                                        if(checkAngle < 0):\n",
    "                                            checkAngle+=2*pi\n",
    "                                        if(checkAngle > rayAngle+0.001 or checkAngle < rayAngle-0.001): #this ray intersection is clearly bad so disregard it\n",
    "                                            continue\n",
    "                                        if(distance < minDistance and distance > 0.001):#put in a min distance, this might fix the ray not moving problem\n",
    "                                            minDistance = distance\n",
    "                                            xMin, yMin = pointOfIntersection, y1\n",
    "                                            minDistSurface = [surface_i]\n",
    "            return xMin, yMin, minDistSurface, minDistance\n",
    "        \n",
    "        passes = 0\n",
    "        listOfRays = self.listOfRays\n",
    "        \n",
    "        while(passes < 4):\n",
    "            \n",
    "            listOfThingsToAdd = []\n",
    "            for i in range(len(listOfRays)):\n",
    "                ray = listOfRays[i]\n",
    "                if(not ray.worthUsing):\n",
    "                    continue\n",
    "                isMirror = 0\n",
    "                xMin1,yMin1, minDistSurface1, distance1 = surfaceFinderPart(ray,self.listOfLenses)\n",
    "                xMin2,yMin2, minDistSurface2, distance2 = surfaceFinderPart(ray,self.listOfMirrors)\n",
    "                if(distance1 > 0 and distance2 > 0):\n",
    "                    if(distance1 < distance2):\n",
    "                        xMin, yMin, minDistSurface = xMin1, yMin1, minDistSurface1\n",
    "                    else:\n",
    "                        isMirror = 1\n",
    "                        xMin, yMin, minDistSurface = xMin2, yMin2, minDistSurface2\n",
    "                elif(distance1 > 0):\n",
    "                    xMin, yMin, minDistSurface = xMin1, yMin1, minDistSurface1\n",
    "                elif(distance2 > 0):\n",
    "                    isMirror = 1\n",
    "                    xMin, yMin, minDistSurface = xMin2, yMin2, minDistSurface2\n",
    "                else:#no points of intersection, may as well move on to the next ray\n",
    "                    ray.worthUsing = 0\n",
    "                    continue\n",
    "                #we have now found the next point of intersection or exhausted all possibilities so we can move on to the rest of this\n",
    "                #before we proceed we again need to have the special case handled for vertical lines\n",
    "                if(minDistSurface == -1):\n",
    "                    ray.worthUsing = 0\n",
    "                    continue\n",
    "                if(len(minDistSurface) == 2): #the special case\n",
    "                    xMin, normalVector = xMin[0], [-1,0]\n",
    "                else:\n",
    "                    normalVector = normalVectorFunc(minDistSurface[0],xMin)\n",
    "                if(np.dot(normalVector, ray.unitVector) > 0):\n",
    "                    normalVector = [-i for i in normalVector]\n",
    "                theta1 = np.arccos(np.dot(ray.unitVector, normalVector))\n",
    "                #we need to determine whether we're inside or outside the lens\n",
    "                if(not isMirror):\n",
    "                    nextObj1 = self.locatingIndexFunction((xMin, yMin+0.0001))\n",
    "                    nextObj2 = self.locatingIndexFunction((xMin, yMin-0.0001))\n",
    "                    if(nextObj1 != ray.objIndex):\n",
    "                        nextObj = nextObj1\n",
    "                    else:\n",
    "                        nextObj = nextObj2\n",
    "                    if(ray.objIndex == -1 and nextObj == -1):\n",
    "                        continue\n",
    "                    elif(ray.objIndex == -1):\n",
    "                        n1 = self.nMedium\n",
    "                        n2 = self.mapOfLenses.get(nextObj).refractiveIndex\n",
    "                    elif(nextObj == -1):\n",
    "                        n1 = self.mapOfLenses.get(ray.objIndex).refractiveIndex\n",
    "                        n2 = self.nMedium\n",
    "                    else:\n",
    "                        n1 = self.mapOfLenses.get(ray.objIndex).refractiveIndex\n",
    "                        n2 = self.mapOfLenses.get(nextObj).refractiveIndex    \n",
    "                    wavelength = ray.wavelength\n",
    "                    if(theta1 > pi/2):\n",
    "                        theta1 = pi - theta1\n",
    "\n",
    "                    if(theta1 >= thetaCritical(n1(wavelength),n2(wavelength))):#internal reflection case need to do this still\n",
    "                        theta2 = theta1\n",
    "                        refractedRay1, refractedRay2 = refractedRayFunction(normalVector, theta2, 0)\n",
    "                        if(np.dot(refractedRay1, ray.unitVector) > np.dot(refractedRay2, ray.unitVector)):#don't use absolute values here\n",
    "                            refractedRay = refractedRay1\n",
    "                        else:\n",
    "                            refractedRay = refractedRay2\n",
    "                        ray.intensityList.append(ray.intensity)\n",
    "                    else:\n",
    "                        i0 = ray.intensity\n",
    "                        theta2 = np.arcsin((n1(wavelength)/n2(wavelength))*np.sin(theta1))\n",
    "                        refractedRay1, refractedRay2 = refractedRayFunction(normalVector, theta2, 1)\n",
    "                        if(abs(np.dot(refractedRay1, ray.unitVector)) > abs(np.dot(refractedRay2, ray.unitVector))):\n",
    "                            refractedRay = refractedRay1\n",
    "                        else:\n",
    "                            refractedRay = refractedRay2\n",
    "                        reflect1, reflect2 = refractedRayFunction(normalVector, theta1, 0)\n",
    "                        if(np.dot(reflect1, ray.unitVector) > np.dot(reflect2, ray.unitVector)):#don't use absolute values here\n",
    "                            reflect = reflect1\n",
    "                        else:\n",
    "                            reflect = reflect2\n",
    "                        Tperpendicular =  n2(wavelength)*np.cos(theta2)/(n1(wavelength)*np.cos(theta1))*(Ray.tPerp(theta1,theta2))**2\n",
    "                        Tparallel = n2(wavelength)*np.cos(theta2)/(n1(wavelength)*np.cos(theta1))*(Ray.tPara(theta1,theta2))**2\n",
    "                        ray.perpendiular = Tperpendicular/(Tperpendicular+Tparallel)\n",
    "                        ray.parallel = Tparallel/(Tperpendicular+Tparallel)\n",
    "                        ray.update_intensity_history(theta1, theta2, n1, n2)\n",
    "                        reflectedXaxisTheta = np.arctan2(reflect[1],reflect[0])\n",
    "                        if(reflectedXaxisTheta < 0):\n",
    "                            reflectedXaxisTheta += 2*np.pi\n",
    "                        newRay = Ray(xMin, yMin, reflectedXaxisTheta, intensity = (i0 - ray.intensity))\n",
    "                        Rperp = Ray.rPerp(theta1,theta2)**2\n",
    "                        Rpara = Ray.rPara(theta1,theta2)**2\n",
    "                        newRay.perpendicular = Rperp/(Rperp+Rpara)\n",
    "                        newRay.parallel = Rpara/(Rperp+Rpara)\n",
    "                        newRay.objIndex = ray.objIndex\n",
    "                        #comment this part out to look at the other behavior\n",
    "                        listOfThingsToAdd.append(newRay)\n",
    "                else:\n",
    "                    #we can add the loss function bit later\n",
    "                    theta2 = theta1\n",
    "                    refractedRay1, refractedRay2 = refractedRayFunction(normalVector, theta2, 1)\n",
    "                    if(np.dot(refractedRay1, ray.unitVector) > np.dot(refractedRay2, ray.unitVector)):#don't use absolute values here\n",
    "                        refractedRay = refractedRay1\n",
    "                    else:\n",
    "                        refractedRay = refractedRay2\n",
    "                    ray.intensityList.append(ray.intensity)\n",
    "                    nextObj = ray.objIndex\n",
    "                \n",
    "                ray.normalVectorHistory.append([[xMin, normalVector[0]+xMin],[yMin,normalVector[1]+yMin]])\n",
    "                refractedXaxisTheta = np.arctan2(refractedRay[1],refractedRay[0])#new theta of refracted ray relative to x axis\n",
    "                if(refractedXaxisTheta < 0):\n",
    "                    refractedXaxisTheta += 2*np.pi\n",
    "                ray.angleHistory.append(theta1*180/pi)\n",
    "                ray.angleHistory.append(theta2*180/pi)\n",
    "                ray.update_location_history(xMin,yMin,refractedXaxisTheta,nextObj)\n",
    "                    #uncomment this part to keep working on the fresnel stuff\n",
    "            listOfRays+=listOfThingsToAdd\n",
    "            passes+=1\n",
    "    def plotter(self,fig): #this method will probably keep growing however it's not too bad right now\n",
    "        sub = fig.add_subplot(111)\n",
    "        surfaceList = self.surfaceList\n",
    "        #first we have to handle graphing the lens or lenses\n",
    "        for s in range(len(surfaceList)):\n",
    "            domain, surfaces = surfaceList[s]\n",
    "            if(len(domain) == 1):#this will need some refining for the 4 point case\n",
    "                x = domain[0]\n",
    "                xList = [x]*len(surfaces)\n",
    "                sub.plot(xList,surfaces)\n",
    "            else:\n",
    "                x = np.linspace(domain[0],domain[1],1000)\n",
    "                for function in surfaces:#this will probably need special handling for constant functions\n",
    "                    tester = function(x[:20])\n",
<<<<<<< HEAD
    "                    if(type(tester) is int or type(tester) is float):\n",
=======
    "                    if(len(tester) == 1):\n",
>>>>>>> origin/master
    "                        yList = [function(domain[0])]*len(x)\n",
    "                    else:\n",
    "                        yList = function(x)\n",
    "                    sub.plot(x, yList)\n",
    "        rayList = self.listOfRays\n",
    "        for i in range(len(rayList)):\n",
    "            xAx, yAx = zip(*rayList[i].locationHistory)\n",
    "            xAxList, yAxList = list(xAx), list(yAx)\n",
    "            length = len(xAx)\n",
    "            #if(length < 2):\n",
    "            #    continue\n",
    "            ray = rayList[i]\n",
    "            angle = ray.angle\n",
    "            slope = ray.slope\n",
    "            ray1, ray2 = [xAxList[-1]-5, yAxList[-1]-5*slope],[xAxList[-1]+5, yAxList[-1]+5*slope]\n",
    "            checkAngle = np.arctan2(ray1[1]-yAxList[-1],ray1[0]-xAxList[-1])\n",
    "            if(checkAngle < 0):\n",
    "                checkAngle+=2*pi\n",
    "            if(checkAngle > angle +0.001 or checkAngle < angle - 0.001):\n",
    "                xAxList.append(ray2[0])\n",
    "                yAxList.append(ray2[1])\n",
    "            else:\n",
    "                xAxList.append(ray1[0])\n",
    "                yAxList.append(ray1[1])\n",
    "                \n",
    "            for j in range(0,len(rayList[i].intensityList)):\n",
    "                #if(rayList[i].intensityList[j] < 0.5):\n",
    "                #    continue\n",
    "                #sub.plot(xAxList[j:j+2],yAxList[j:j+2],color=plt.cm.viridis(1-rayList[i].intensityList[j]))#,alpha=(rayList[i].intensityList[j]))\n",
    "                sub.plot(xAxList[j:j+2],yAxList[j:j+2],color=plt.cm.gray(1-rayList[i].intensityList[j]))\n",
    "            \n",
    "            #sub.plot(xAxList, yAxList, 'b',color=plt.cm.jet(i/len(rayList)), label=\"ray {0}\".format(rayList[i].identity))\n",
    "            #for normalVector in ray.normalVectorHistory:\n",
    "            #    sub.plot(normalVector[0],normalVector[1],'m-.')\n",
    "            \n",
    "    def plotterJustLens(self,fig): #for debugging\n",
    "        sub = fig.add_subplot(111)\n",
    "        surfaceList = self.surfaceList\n",
    "        for s in range(len(surfaceList)):\n",
    "            domain, surfaces = surfaceList[s]\n",
    "            if(len(domain) == 1):#this will need some refining for the 4 point case\n",
    "                x = domain[0]\n",
    "                xList = [x]*len(surfaces)\n",
    "                sub.plot(xList,surfaces)\n",
    "            else:\n",
    "                x = np.linspace(domain[0],domain[1],1000)\n",
    "                for function in surfaces:#this will probably need special handling for constant functions\n",
    "                    if(function(1) == function(2) and function(1) == function(1.5)):#this seems to be a constant function, should probably put in more \n",
    "                        #robust handling when the domain for the contain function isn't so nice\n",
    "                        yList = [function(1)]*len(x)\n",
    "                    else:\n",
    "                        yList = function(x)\n",
    "                    sub.plot(x, yList)"
   ]
  },
  {
   "cell_type": "code",
   "execution_count": null,
   "metadata": {
    "collapsed": true
   },
   "outputs": [],
   "source": []
  },
  {
   "cell_type": "markdown",
   "metadata": {},
   "source": [
    "bug list:\n",
    "1. problem with getting the surface finding feature to \"jump\" to the next surface, i.e. not just have the ray stand still\n",
    "2. problem with refracting off of the flat sides in a concave lens\n",
    "3. there probably should be explicit handling for vertical incoming rays\n",
    "4. the meniscus concave predefined doesn't seem to work, unsure why\n",
    "    removing the passes patch seemed to make some progress\n",
    "5. gaussian optics also seem to need some work\n",
    "6. width isn't working properly for the meniscus concave part\n",
    "7. there is no change in the ray propagation going through a flat vertical surface\n",
    "8. some new bugs have emerged since I have been working on the internal reflection portion\n",
    "9. moving meniscus convex 5 to left causes the plots to stop working\n",
    "\n",
    "to do:\n",
    "1. should minimize domain such that the smaller of the two curves is the limiting factor\n",
    "2. the biconvex and I suspect the other lenses too need some help with rays that would internally reflect\n",
    "3. more testing with the beam source version\n",
    "4. the slope from the right flag needs to be updated when we reflect off of a horizontal surface\n",
    "5. check if the assumption that we have to be in the 1st quandrant is the cause of the failure of the program\n",
    "6. add the ability for convex sections that are normally not intersecting\n",
    "7. deal with the gaussian optics case where both r1, r2 are negative\n",
    "8. work on the guess procedure for the surface intersection\n",
    "9. add the ability for a ray to hit the same surface twice (or more)\n",
    "\n",
    "fixed:(big)\n",
    "1. bug with the fringe rays intersecting in the middle"
   ]
  },
  {
   "cell_type": "code",
<<<<<<< HEAD
   "execution_count": 124,
   "metadata": {
    "collapsed": false
   },
   "outputs": [],
   "source": [
    "#fix problem with updating objIndex\n",
    "#bug with plano concave r1 = 0, r2 < 0\n",
    "#bug at -1.5 for l2, it's because our rays were generated in the l2 lens\n",
    "#should improve efficiency of ray propagating algorithm by using a flag to indicate whether a ray is worth working on\n",
    "\n",
    "#parabola\n",
    "\n",
    "\n",
    "myRayList = RayGenerator.beam_source(4,-3,6,-3,10)\n",
    "\n",
    "#myLens = Lens.gaussianOptics(r1=3, r2=0,diameter=3, thickness=0.5,xOffSet=2,yOffSet=2,nFunction=lambda x: 1.5)\n",
    "#myLens2 = Lens.gaussianOptics(r1 = 0, r2 = 3, diameter = 3, thickness = 0.5, xOffSet = 2, yOffSet = 3.1, nFunction = lambda x: 1.5)\n",
    "#myLens2 = Lens.predefined(\"biconcave\", nFunction=lambda x : 2, xOffSet=0,yOffSet=2)\n",
    "\n",
    "myLens = Lens.gaussianOptics(r1=5, r2=-5,diameter=0, thickness=0.5,xOffSet=0,yOffSet=-1,nFunction=lambda x: 1.5)\n",
    "myLens2 = Lens.gaussianOptics(r1 = -3, r2 = 3, diameter = 3, thickness = 0.5, xOffSet = 2, yOffSet = -4.75, nFunction = lambda x: 1.5)\n",
    "#myMirror = Mirror.gaussianOptics(R = -3, diameter = 3, xOffSet = 5, yOffSet = 4)\n",
    "myMirror = Mirror.custom(surfaceList =[[[0,10],[lambda x : -(x-5)**2+5]]])\n",
    "\n",
    "theDriver = driver(lambda x:1,myRayList.theRayList,listOfMirrors=[myMirror])\n",
=======
   "execution_count": 29,
   "metadata": {},
   "outputs": [
    {
     "name": "stderr",
     "output_type": "stream",
     "text": [
      "/Users/pauln/anaconda/lib/python3.6/site-packages/ipykernel/__main__.py:192: RuntimeWarning: invalid value encountered in sqrt\n",
      "/Users/pauln/anaconda/lib/python3.6/site-packages/scipy/optimize/minpack.py:161: RuntimeWarning: The iteration is not making good progress, as measured by the \n",
      "  improvement from the last ten iterations.\n",
      "  warnings.warn(msg, RuntimeWarning)\n",
      "/Users/pauln/anaconda/lib/python3.6/site-packages/ipykernel/__main__.py:193: RuntimeWarning: invalid value encountered in sqrt\n",
      "/Users/pauln/anaconda/lib/python3.6/site-packages/ipykernel/__main__.py:20: RuntimeWarning: invalid value encountered in arcsin\n"
     ]
    },
    {
     "data": {
      "image/png": "iVBORw0KGgoAAAANSUhEUgAAAiMAAAIjCAYAAADRKhuxAAAABHNCSVQICAgIfAhkiAAAAAlwSFlz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\n",
      "text/plain": [
       "<matplotlib.figure.Figure at 0x11c36e0f0>"
      ]
     },
     "metadata": {},
     "output_type": "display_data"
    }
   ],
   "source": [
    "myRayList = RayGenerator.beam_source(2.8,0,7.2,0,10)\n",
    "myLens = lens.gaussianOptics(r1=3, r2=-3,diameter=0, thickness=7, xOffSet=2,yOffSet=1,nFunction=lambda x: 1.5)\n",
    "theDriver = driver(lambda x:1,myRayList.theRayList,myLens)\n",
>>>>>>> origin/master
    "theDriver.rayFunc()\n",
    "fig = plt.figure()\n",
    "theDriver.plotter(fig)\n",
    "plt.ylim(-5,16)\n",
    "#plt.xlim(1,9)\n",
    "plt.tight_layout()\n",
    "plt.show()"
   ]
  },
  {
   "cell_type": "code",
<<<<<<< HEAD
   "execution_count": null,
   "metadata": {
    "collapsed": true
   },
   "outputs": [],
   "source": []
  },
  {
   "cell_type": "code",
   "execution_count": 53,
=======
   "execution_count": 8,
>>>>>>> origin/master
   "metadata": {
    "scrolled": false
   },
   "outputs": [
    {
<<<<<<< HEAD
     "ename": "NameError",
     "evalue": "name 'lens' is not defined",
     "output_type": "error",
     "traceback": [
      "\u001b[1;31m---------------------------------------------------------------------------\u001b[0m",
      "\u001b[1;31mNameError\u001b[0m                                 Traceback (most recent call last)",
      "\u001b[1;32m<ipython-input-53-723d5d079ad2>\u001b[0m in \u001b[0;36m<module>\u001b[1;34m()\u001b[0m\n\u001b[0;32m     11\u001b[0m \u001b[1;31m#myRayList = RayGenerator.beam_source(2,0,8,0,100)\u001b[0m\u001b[1;33m\u001b[0m\u001b[1;33m\u001b[0m\u001b[0m\n\u001b[0;32m     12\u001b[0m \u001b[1;31m#myLens = lens.predefined(\"biconcave\", nFunction=lambda x : 1.6, xOffSet=0,yOffSet=0)\u001b[0m\u001b[1;33m\u001b[0m\u001b[1;33m\u001b[0m\u001b[0m\n\u001b[1;32m---> 13\u001b[1;33m \u001b[0mmyLens\u001b[0m \u001b[1;33m=\u001b[0m \u001b[0mlens\u001b[0m\u001b[1;33m.\u001b[0m\u001b[0mgaussianOptics\u001b[0m\u001b[1;33m(\u001b[0m\u001b[0mr1\u001b[0m\u001b[1;33m=\u001b[0m\u001b[1;36m3\u001b[0m\u001b[1;33m,\u001b[0m \u001b[0mr2\u001b[0m\u001b[1;33m=\u001b[0m\u001b[1;33m-\u001b[0m\u001b[1;36m3\u001b[0m\u001b[1;33m,\u001b[0m\u001b[0mdiameter\u001b[0m\u001b[1;33m=\u001b[0m\u001b[1;36m0\u001b[0m\u001b[1;33m,\u001b[0m \u001b[0mthickness\u001b[0m\u001b[1;33m=\u001b[0m\u001b[1;36m7\u001b[0m\u001b[1;33m,\u001b[0m\u001b[0mxOffSet\u001b[0m\u001b[1;33m=\u001b[0m\u001b[1;36m1\u001b[0m\u001b[1;33m,\u001b[0m\u001b[0myOffSet\u001b[0m\u001b[1;33m=\u001b[0m\u001b[1;36m0\u001b[0m\u001b[1;33m,\u001b[0m\u001b[0mnFunction\u001b[0m\u001b[1;33m=\u001b[0m\u001b[1;32mlambda\u001b[0m \u001b[0mx\u001b[0m\u001b[1;33m:\u001b[0m \u001b[1;36m1.5\u001b[0m\u001b[1;33m)\u001b[0m\u001b[1;33m\u001b[0m\u001b[0m\n\u001b[0m\u001b[0;32m     14\u001b[0m \u001b[1;31m#print(myLens.surfaceList)\u001b[0m\u001b[1;33m\u001b[0m\u001b[1;33m\u001b[0m\u001b[0m\n\u001b[0;32m     15\u001b[0m \u001b[1;31m#myLens = lens.gaussianOptics(r1=0, r2=0, diameter = 2, thickness = 2, xOffSet = 3, yOffSet = 0, nFunction=lambda x:1.5)\u001b[0m\u001b[1;33m\u001b[0m\u001b[1;33m\u001b[0m\u001b[0m\n",
      "\u001b[1;31mNameError\u001b[0m: name 'lens' is not defined"
=======
     "name": "stderr",
     "output_type": "stream",
     "text": [
      "/Users/pauln/anaconda/lib/python3.6/site-packages/ipykernel/__main__.py:192: RuntimeWarning: invalid value encountered in sqrt\n",
      "/Users/pauln/anaconda/lib/python3.6/site-packages/scipy/optimize/minpack.py:161: RuntimeWarning: The iteration is not making good progress, as measured by the \n",
      "  improvement from the last ten iterations.\n",
      "  warnings.warn(msg, RuntimeWarning)\n",
      "/Users/pauln/anaconda/lib/python3.6/site-packages/ipykernel/__main__.py:193: RuntimeWarning: invalid value encountered in sqrt\n",
      "/Users/pauln/anaconda/lib/python3.6/site-packages/ipykernel/__main__.py:20: RuntimeWarning: invalid value encountered in arcsin\n",
      "/Users/pauln/anaconda/lib/python3.6/site-packages/scipy/optimize/minpack.py:161: RuntimeWarning: The iteration is not making good progress, as measured by the \n",
      "  improvement from the last five Jacobian evaluations.\n",
      "  warnings.warn(msg, RuntimeWarning)\n"
>>>>>>> origin/master
     ]
    },
    {
     "data": {
      "image/png": "iVBORw0KGgoAAAANSUhEUgAAAiMAAAIjCAYAAADRKhuxAAAABHNCSVQICAgIfAhkiAAAAAlwSFlz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\n",
      "text/plain": [
       "<matplotlib.figure.Figure at 0x118b76e10>"
      ]
     },
     "metadata": {},
     "output_type": "display_data"
    }
   ],
   "source": [
    "#tester cell\n",
    "#myRayList = RayGenerator(2,-1,30,\"point_source\",startAngle=60*pi/180,stopAngle=120*pi/180)\n",
    "#myRayList = RayGenerator(5,-1,30,\"point_source\", startAngle=60*pi/180,stopAngle=120*pi/180)\n",
    "#myRayList = RayGenerator.point_source(5,6,30,60*pi/180, 120*pi/180)\n",
    "#myRayList = RayGenerator.point_source(5,6, 1, 109.5*pi/180, 119.5*pi/180)\n",
    "#myRayList = RayGenerator.converging_source(3,0,7,0,300, 65*pi/180, 115*pi/180)\n",
    "#myRayList = RayGenerator.beam_source(3.485, 0, 3.49, 0, 1)\n",
    "#Ray.rayCount = 0\n",
    "myRayList = RayGenerator.beam_source(2.5,0,7.5,0,10)\n",
    "#myRayList = RayGenerator.beam_source(3.675,0,3.678,0, 1)\n",
    "#myRayList = RayGenerator.beam_source(2,0,8,0,100)\n",
    "#myLens = lens.predefined(\"biconcave\", nFunction=lambda x : 1.6, xOffSet=0,yOffSet=0)\n",
    "myLens = lens.gaussianOptics(r1=3, r2=-3,diameter=0, thickness=7,xOffSet=1,yOffSet=0,nFunction=lambda x: 1.5)\n",
    "#print(myLens.surfaceList)\n",
    "#myLens = lens.gaussianOptics(r1=0, r2=0, diameter = 2, thickness = 2, xOffSet = 3, yOffSet = 0, nFunction=lambda x:1.5)\n",
    "theDriver = driver(lambda x:1,myRayList.theRayList,[myLens])\n",
    "theDriver.rayFunc()\n",
    "#for ray in theDriver.listOfRays:\n",
    "#    print(ray.locationHistory)\n",
    "fig = plt.figure()\n",
    "theDriver.plotterJustLens(fig)\n",
    "plt.ylim(-8,8)\n",
    "plt.xlim(0,10)\n",
    "#plt.axis('equal')\n",
    "#plt.legend()\n",
    "plt.tight_layout()\n",
    "plt.show()\n",
    "#add refinement for close to theta critical\n"
   ]
  },
  {
   "cell_type": "code",
<<<<<<< HEAD
   "execution_count": 54,
=======
   "execution_count": 9,
>>>>>>> origin/master
   "metadata": {
    "collapsed": true
   },
   "outputs": [],
   "source": [
    "for ray in myRayList.theRayList:\n",
    "    if(ray.identity == 1):\n",
    "        print(ray.locationHistory)\n",
    "    #print(ray.locationHistory)\n",
    "    #print(ray.angleHistory)\n",
    "    #print(ray.unitVectorHistory)"
   ]
  },
  {
   "cell_type": "code",
   "execution_count": 10,
   "metadata": {
    "collapsed": true
   },
   "outputs": [],
   "source": [
    "#print(ray.unitVectorHistory)"
   ]
  },
  {
   "cell_type": "code",
   "execution_count": 112,
   "metadata": {
    "collapsed": true
   },
   "outputs": [
    {
     "name": "stdout",
     "output_type": "stream",
     "text": [
      "[[[3.5], [3.401923788646684, 3.5]], [[3.5, 6.5], [<function Lens.gaussianOptics.<locals>.<lambda> at 0x000002015878C9D8>, <function Lens.gaussianOptics.<locals>.<lambda> at 0x00000201575C8AE8>]], [[6.5], [3.401923788646684, 3.5]], [[3.5], [3.9000000000000004, 4.801923788646684]], [[3.5, 6.5], [<function Lens.gaussianOptics.<locals>.<lambda> at 0x0000020158452598>, <function Lens.gaussianOptics.<locals>.<lambda> at 0x0000020158452048>]], [[6.5], [3.9000000000000004, 4.801923788646684]]] \n",
      "\n",
      "[[[3.5], [3.9000000000000004, 4.801923788646684]], [[3.5, 6.5], [<function Lens.gaussianOptics.<locals>.<lambda> at 0x0000020158452598>, <function Lens.gaussianOptics.<locals>.<lambda> at 0x0000020158452048>]], [[6.5], [3.9000000000000004, 4.801923788646684]]] \n",
      "\n"
     ]
    }
   ],
   "source": [
    "for i in [myLens, myLens2]:\n",
    "    print(i.surfaceList,\"\\n\")"
   ]
  },
  {
   "cell_type": "code",
   "execution_count": null,
   "metadata": {
    "collapsed": true
   },
   "outputs": [],
   "source": [
    "def sellmeier(coeffList,wavelength):\n",
    "    B1,B2,B3,C1,C2,C3 = coeffList\n",
    "    if(B1 and B2 and B3 and C1 and C2 and C3):\n",
    "        wavelength *= 1e6\n",
    "        return lambda x : (1 + B1*wavelength**2/(wavelength**2 - C1) + B2*wavelength**2/(wavelength**2 - C2) + B3*wavelength**2/(wavelength**2 - C3) )**(1/2)\n",
    "    return refractiveIndex"
   ]
  },
  {
   "cell_type": "code",
   "execution_count": 11,
   "metadata": {
    "collapsed": true
   },
   "outputs": [],
   "source": [
    "a = set()"
   ]
  },
  {
   "cell_type": "code",
   "execution_count": 12,
   "metadata": {},
   "outputs": [
    {
     "name": "stdout",
     "output_type": "stream",
     "text": [
      "[1, 2, 3, 4, 5, 6]\n"
     ]
    }
   ],
   "source": [
    "a = [1,2,3]\n",
    "b = [4,5,6]\n",
    "a+=b\n",
    "print(a)"
   ]
  },
  {
   "cell_type": "code",
   "execution_count": 13,
   "metadata": {
    "collapsed": true
   },
   "outputs": [],
   "source": [
    "#for i in b:\n",
    "#    print(i.angleHistory)"
   ]
  },
  {
   "cell_type": "code",
   "execution_count": 14,
   "metadata": {
    "collapsed": true
   },
   "outputs": [],
   "source": [
    "myList = [1,2,3]"
   ]
  },
  {
   "cell_type": "code",
   "execution_count": 15,
   "metadata": {
    "collapsed": true
   },
   "outputs": [],
   "source": [
    "g,h,j = myList"
   ]
  },
  {
   "cell_type": "code",
   "execution_count": 16,
   "metadata": {},
   "outputs": [
    {
     "name": "stdout",
     "output_type": "stream",
     "text": [
      "1\n"
     ]
    }
   ],
   "source": [
    "print(g)"
   ]
  },
  {
   "cell_type": "code",
   "execution_count": 17,
   "metadata": {},
   "outputs": [
    {
     "data": {
      "text/plain": [
       "-1.1102230246251565e-14"
      ]
     },
     "execution_count": 17,
     "metadata": {},
     "output_type": "execute_result"
    }
   ],
   "source": [
    "f = lambda x : np.sin(x) - x-1\n",
    "b = opt.root(f, 1)\n",
    "b.fun[0]"
   ]
  },
  {
   "cell_type": "code",
   "execution_count": 18,
   "metadata": {
    "collapsed": true
   },
   "outputs": [],
   "source": [
    "a = [[1,2],[3,4,5]]\n",
    "b,c = a"
   ]
  },
  {
   "cell_type": "code",
   "execution_count": 19,
   "metadata": {},
   "outputs": [
    {
     "name": "stdout",
     "output_type": "stream",
     "text": [
      "[1, 2] [3, 4, 5]\n"
     ]
    }
   ],
   "source": [
    "print(b,c)"
   ]
  },
  {
   "cell_type": "code",
   "execution_count": 20,
   "metadata": {},
   "outputs": [
    {
     "ename": "NameError",
     "evalue": "name 'const' is not defined",
     "output_type": "error",
     "traceback": [
      "\u001b[0;31m---------------------------------------------------------------------------\u001b[0m",
      "\u001b[0;31mNameError\u001b[0m                                 Traceback (most recent call last)",
      "\u001b[0;32m<ipython-input-20-d75b5e1d422e>\u001b[0m in \u001b[0;36m<module>\u001b[0;34m()\u001b[0m\n\u001b[1;32m      1\u001b[0m \u001b[0ma\u001b[0m \u001b[0;34m=\u001b[0m \u001b[0;34m[\u001b[0m\u001b[0;36m1\u001b[0m\u001b[0;34m,\u001b[0m\u001b[0;36m2\u001b[0m\u001b[0;34m,\u001b[0m\u001b[0;36m3\u001b[0m\u001b[0;34m]\u001b[0m\u001b[0;34m\u001b[0m\u001b[0m\n\u001b[0;32m----> 2\u001b[0;31m \u001b[0mconst\u001b[0m\u001b[0;34m(\u001b[0m\u001b[0ma\u001b[0m\u001b[0;34m[\u001b[0m\u001b[0;34m:\u001b[0m\u001b[0;36m2\u001b[0m\u001b[0;34m]\u001b[0m\u001b[0;34m)\u001b[0m\u001b[0;34m\u001b[0m\u001b[0m\n\u001b[0m",
      "\u001b[0;31mNameError\u001b[0m: name 'const' is not defined"
     ]
    }
   ],
   "source": [
    "a = [1,2,3]\n",
    "const(a[:2])"
   ]
  },
  {
   "cell_type": "code",
   "execution_count": null,
   "metadata": {
    "collapsed": true
   },
   "outputs": [],
   "source": [
    "const = lambda x : 1.5\n",
    "g = np.arange(25).reshape(5,5)\n",
    "const1 = np.vectorize(const)\n",
    "const1(g)"
   ]
  },
  {
   "cell_type": "code",
   "execution_count": null,
   "metadata": {
    "collapsed": true
   },
   "outputs": [],
   "source": [
    "hg = [1,2, sorted([6,7,2])]\n",
    "print(hg)"
   ]
  },
  {
   "cell_type": "code",
   "execution_count": 304,
   "metadata": {
    "collapsed": false
   },
   "outputs": [
    {
     "name": "stdout",
     "output_type": "stream",
     "text": [
      "b\n",
      "c\n",
      "a\n"
     ]
    }
   ],
   "source": [
    "diction = {\"a\" : 1, \"b\" : 2, \"c\" : 3}\n",
    "for i in diction:\n",
    "    print(i)"
   ]
  },
  {
   "cell_type": "code",
   "execution_count": 308,
   "metadata": {
    "collapsed": false
   },
   "outputs": [
    {
     "data": {
      "text/plain": [
       "2"
      ]
     },
     "execution_count": 308,
     "metadata": {},
     "output_type": "execute_result"
    }
   ],
   "source": [
    "diction.get(\"b\")"
   ]
  },
  {
   "cell_type": "code",
   "execution_count": 433,
   "metadata": {
    "collapsed": false
   },
   "outputs": [
    {
     "data": {
      "text/plain": [
       "int"
      ]
     },
     "execution_count": 433,
     "metadata": {},
     "output_type": "execute_result"
    }
   ],
   "source": [
    "type(5)"
   ]
  },
  {
   "cell_type": "code",
   "execution_count": null,
   "metadata": {
    "collapsed": true
   },
   "outputs": [],
   "source": []
  }
 ],
 "metadata": {
  "kernelspec": {
   "display_name": "Python 3",
   "language": "python",
   "name": "python3"
  },
  "language_info": {
   "codemirror_mode": {
    "name": "ipython",
    "version": 3
   },
   "file_extension": ".py",
   "mimetype": "text/x-python",
   "name": "python",
   "nbconvert_exporter": "python",
   "pygments_lexer": "ipython3",
   "version": "3.6.1"
  }
 },
 "nbformat": 4,
 "nbformat_minor": 1
}
