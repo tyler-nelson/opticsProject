{
 "cells": [
  {
   "cell_type": "code",
   "execution_count": 7,
   "metadata": {
    "collapsed": true
   },
   "outputs": [],
   "source": [
    "# import statements for rest of notebook\n",
    "import matplotlib as mpl\n",
    "import matplotlib.pyplot as plt\n",
    "#plt.rc('text', usetex=True)\n",
    "plt.rc('font', family='serif')\n",
    "mpl.rcParams.update({'font.size': 20})\n",
    "mpl.rcParams['figure.figsize'] = 8,8\n",
    "import math as m   # importing math library outside function definition saves time \n",
    "import numpy as np\n",
    "from IPython.display import Image\n",
    "import scipy as sci\n",
    "from scipy.misc import derivative\n",
    "import scipy.optimize as opt\n",
    "import sympy as sym\n",
    "from numpy import pi\n",
    "from itertools import chain, repeat\n"
   ]
  },
  {
   "cell_type": "markdown",
   "metadata": {},
   "source": [
    "Things to know about this notebook:\n",
    "The goal of this project is to provide a toolbox that students or teachers could use to demonstrate and explore concepts in geometrical optics. Ray tracing is the method of choice to achieve these objectives. The simulator is written such that it can be extended and tinkered with as the user sees fit. \n",
    "\n",
    "We have taken an object oriented approach to programming this simulator as it provides clairty into how the various parts interact. Throughout the notebook we will comment and annotate code to explain the more complicated segments and illustrate how all the pieces come together. "
   ]
  },
  {
   "cell_type": "markdown",
   "metadata": {},
   "source": [
    "Useful uncategorized information  \n",
    "\n",
    "Coordinate System:\n",
    "    Currently the lenses are restricted to the first quandrant of the XY plane. Most examples are set up with the intended \n",
    "    direction of propagation in the +y direction. If we refer to things being below or above others, that is to say that the y\n",
    "    coordinate of the below item is less than the above object. \n",
    "\n",
    "Lenses:\n",
    "    Lenses are represented as a list[] of ordered pairs (domain, surfaces). Each ordered pair contains\n",
    "    a domain list and a surface list. The domain list defines a piecewise definition of the segment of the lens. \n",
    "    If multiple surfaces are present over one domain, they are given in no particular order. For clarity imagine the following:\n",
    "             -------f(x)-------\n",
    "    from x0  -------g(x)------- to x1 would be translated as [[x0,x1],[g,f]] where this is one element of the lens\n",
    "    \n",
    "    The lens (domain, surfaces) elements are ordered by the domain component. The domain for a given lens must be continuous. \n",
    "    Hence if we have the element [[x0,x1],[f1,g1]] then the next element should be [[x1,x2],[f2,g2]] where x2 > x1 and the \n",
    "    fi, gi's are surfaces defined over the given domains. \n",
    "    \n",
    "    Vertical lines require special attention. Many other curves in the xy plane may be represented as functions of x \n",
    "    but vertical lines cannot be. Hence we elected to give vertical lines a domain of x = c and the \n",
    "    surfaces are the y points that define the vertical line segment. This translates to the following:\n",
    "    \n",
    "    y1\n",
    "    |\n",
    "    |\n",
    "    |\n",
    "    |\n",
    "    |\n",
    "    |\n",
    "    |\n",
    "    |\n",
    "    y0 at x = x0 -> [[x0],[y0,y1]]\n",
    "    \n",
    "    The lens class has predefined lenses in it along with the capability to do gaussian optics as specified by the user.\n",
    "    \n",
    "Rays:\n",
    "    Rays carry a lot of information in them. They are defined as a geometrical ray. With a source location and an angle measured\n",
    "    counter-clockwise from the horizonal (in radians). \n",
    "    \n",
    "RayGenerator:\n",
    "    This makes the initial list of rays that will propagate through the system. It can create point sources, (parallel) beam \n",
    "    sources, and converging (beam) sources. \n",
    "    \n",
    "Driver:\n",
    "    This class binds all of the constitutent parts together. It is responsible for handling ray propagation, ray reflection/\n",
    "    refraction, and plotting the results.\n",
    "\n",
    " "
   ]
  },
  {
   "cell_type": "markdown",
   "metadata": {
    "collapsed": true
   },
   "source": [
    "Our approach:\n",
    "\n",
    "    Surface Finding:\n",
    "        Each ray is modeled as a function of x (unless it's vertical) and each part of the lens is also. Hence we can use a\n",
    "        numerical root solver in the scipy optimize library to determine where the ray will cross the surface, if ever. We can \n",
    "        repeat this for every surface avaliable and take the surface which minimizes the distance from our orginial point as\n",
    "        this minimizes the optical path length and would therefore be the one the ray would actually follow. \n",
    "        \n",
    "        This code will not work for media whose index of refraction is position dependent.\n",
    "        \n",
    "    Refracting:\n",
    "        We employ snell's law as our method of refracting rays. To determine the normal vector we leverage the functional form \n",
    "        of our surfaces and calculate the normal vector based on differential calculus. Once we have that, we use the dot \n",
    "        product to calculate the angle of incidence and snell's law for the angle of transmission. Finally, to avoid the\n",
    "        complications induced from having several coordinate systems, we calculate the xy components of the refracted/reflected\n",
    "        ray by using the 2D rotation matrix for a vector. \n"
   ]
  },
  {
   "cell_type": "code",
   "execution_count": 8,
   "metadata": {
    "collapsed": true
   },
   "outputs": [],
   "source": [
    "'''\n",
    "The ray class is esentially a container for a lot of attributes associated with a light ray\n",
    "\n",
    "We have broken down which category each property best fits into\n",
    "this typically will indicate which part of the program will use the field although\n",
    "there may be overlap with other categories.\n",
    "\n",
    "Summary of fields:\n",
    "The light ray is defined in a mathematical sense as a normal ray which has an end point (source location) and an\n",
    "angle that provides the ray direction (denoted angle) measured CCW from the horizontal. \n",
    "\n",
    "Due to our method of determining where a ray will strike a surface. \n",
    "''' \n",
    "\n",
    "class Ray:\n",
    "    rayCount = 0\n",
    "    def __init__(self, x, y, angle, wavelength=0,identity=42, intensity=1):\n",
    "        \n",
    "        #vector quantities\n",
    "        self.sourceLocation = (x,y)\n",
    "        self.angle = angle\n",
    "        self.unitVector = [np.cos(angle), np.sin(angle)]\n",
    "        \n",
    "        #line quantities\n",
    "        self.slope = (self.unitVector[1]/self.unitVector[0])\n",
    "        self.yIntercept = y - x*self.slope # y = mx + b --> b = y - mx\n",
    "        self.xIntercept = - self.yIntercept/self.slope # x = -b/m\n",
    "        \n",
    "        #plot quantities\n",
    "        self.locationHistory = [self.sourceLocation] # keep track of the prevous interface points\n",
    "        self.angleHistory = [angle*180/np.pi]\n",
    "        self.slopeFromRight = 0\n",
    "        if(self.slope < 0):\n",
    "            self.slopeFromRight = 1\n",
    "        \n",
    "        #light quantities\n",
    "        self.wavelength = wavelength\n",
    "        self.intensity = intensity\n",
    "        self.intensityList = [intensity]\n",
    "        self.parallel = 0.5\n",
    "        self.perpendicular = 0.5\n",
    "        \n",
    "        #program quantities\n",
    "        self.objIndex = -1\n",
    "        #self.identity = identity #this can be set up in the ray generator\n",
    "        self.identity = Ray.rayCount\n",
    "        Ray.rayCount+=1\n",
    "        self.reflected = 0\n",
    "        self.normalVectorHistory = []\n",
    "        #self.unitVectorHistory = [ray.unitVector]\n",
    "        \n",
    "    def update_location_history(self, x, y, angle, objIndex):\n",
    "        \n",
    "        #update vector quantities:\n",
    "        self.sourceLocation = (x,y)\n",
    "        self.angle = angle\n",
    "        self.unitVector = [np.cos(angle),np.sin(angle)]\n",
    "        \n",
    "        #update line quantities\n",
    "        self.slope = (self.unitVector[1] / self.unitVector[0])\n",
    "        self.yIntercept = y - x*self.slope # y = mx + b --> b = y - mx\n",
    "        self.xIntercept = - self.yIntercept/self.slope # x = -b/m\n",
    "        \n",
    "        #update plot quantities\n",
    "        self.locationHistory.append((x,y))\n",
    "        self.angleHistory.append(angle*180/np.pi)\n",
    "        \n",
    "        #update program quantity\n",
    "        self.objIndex = objIndex\n",
    "        #self.unitVectorHistory.append(self.unitVector)\n",
    "        \n",
    "        \n",
    "    def rPerp(angleI, angleT):\n",
    "        return -np.sin(angleI-angleT)/np.sin(angleI+angleT)\n",
    "    def rPara(angleI, angleT):\n",
    "        return np.tan(angleI-angleT)/np.tan(angleI+angleT)\n",
    "    def tPerp(angleI, angleT):\n",
    "        return 2*np.sin(angleT)*np.cos(angleI)/np.sin(angleI+angleT)\n",
    "    def tPara(angleI,angleT):\n",
    "        return 2*np.sin(angleT)*np.cos(angleI)/(np.sin(angleI+angleT)*np.cos(angleI-angleT))\n",
    "    \n",
    "    #should be irradience\n",
    "    def update_intensity_history(self, angleI, angleT, nI, nT):\n",
    "        \n",
    "        \n",
    "        R = self.parallel*Ray.rPara(angleI,angleT)**2 + self.perpendicular*Ray.rPerp(angleI,angleT)**2\n",
    "        T = (nT(self.wavelength)*np.cos(angleT)/(nI(self.wavelength)*np.cos(angleI)))*(self.parallel*Ray.tPara(angleI,angleT)**2 + self.perpendicular*Ray.tPerp(angleI,angleT)**2)\n",
    "        if(angleI == angleT):\n",
    "            self.intensity*=R\n",
    "            self.intensityList.append(self.intensity)\n",
    "            #self.perpendicular = Ray.rPerp(angleI, angleT)**2\n",
    "            #self.parallel = Ray.rPara(angleI,angleT)**2\n",
    "        else:\n",
    "            self.intensity*=T\n",
    "            self.intensityList.append(self.intensity)\n",
    "            #self.perpendicular = (nT(self.wavelength)*np.cos(angleT)/(nI(self.wavelength)*np.cos(angleI)))*Ray.tPerp(angleI,angleT)**2\n",
    "            #self.parallel = (nT(self.wavelength)*np.cos(angleT)/(nI(self.wavelength)*np.cos(angleI)))*Ray.tPara(angleI, angleT)**2\n",
    "        \n",
    "    def printString(self):\n",
    "        return \"{0}\\n{1}\\n{2}\\n\".format(self.slope, self.xIntercept,np.asarray(self.angleHistory)*180/np.pi)"
   ]
  },
  {
   "cell_type": "code",
<<<<<<< HEAD
   "execution_count": 9,
   "metadata": {
    "collapsed": false
   },
=======
   "execution_count": 3,
   "metadata": {},
>>>>>>> origin/cleaningMethods
   "outputs": [],
   "source": [
    "class RayGenerator:\n",
    "    def __init__(self, rayList):\n",
    "        \n",
    "        self.theRayList = rayList\n",
    "        \n",
    "    @classmethod\n",
    "    def point_source(cls, x0, y0, numberOfRays, startAngle, stopAngle, startLambda=1, endLambda=1):\n",
    "        if startAngle == 0 and stopAngle == 2*np.pi:\n",
    "            theAngleList = np.linspace(startAngle, stopAngle, numberOfRays+1)\n",
    "        else:\n",
    "            theAngleList = np.linspace(startAngle, stopAngle, numberOfRays)\n",
    "        rayList = []\n",
    "        for i, angle in enumerate(theAngleList):#still have to put in the color code\n",
    "            rayList.append(Ray(x0,y0,angle, 0))\n",
    "        return cls(rayList)\n",
    "    \n",
    "    @classmethod\n",
    "    def beam_source(cls, x0, y0, x1, y1, numberOfRays, startLambda=1, endLambda=1):\n",
    "        if x1 - x0 == 0 and y1 - y0 == 0 :\n",
    "            raise(Exception(\"beam width must be non-zero\"))\n",
    "        rayAngle = np.arctan2((x1-x0),-(y1-y0))\n",
    "        xList, yList = np.linspace(x0, x1, numberOfRays), np.linspace(y0, y1, numberOfRays)\n",
    "        pointList = list(zip(xList, yList))\n",
    "        rayList = []\n",
    "        for i, point in enumerate(pointList):\n",
    "            rayList.append(Ray(point[0],point[1],rayAngle,0,identity=i))\n",
    "        return cls(rayList)\n",
    "    \n",
    "    @classmethod\n",
    "    def converging_source(cls, x0, y0, x1, y1, numberOfRays, startAngle, stopAngle, startLambda=1, endLambda=1):\n",
    "        if x1-x0 == 0 and y1-y0 == 0:\n",
    "            raise(Exception(\"converging beam width must be non-zero\"))\n",
    "        xList, yList = np.linspace(x0, x1, numberOfRays), np.linspace(y0, y1, numberOfRays)\n",
    "        pointList = list(zip(xList, yList))\n",
    "        theAngleList = np.linspace(startAngle, stopAngle, numberOfRays)\n",
    "        rayList = []\n",
    "        for i, point in enumerate(pointList):\n",
    "            rayList.append(Ray(point[0], point[1], theAngleList[i], 0))\n",
    "        return cls(rayList)\n",
    "        \n",
    "\n"
   ]
  },
  {
   "cell_type": "markdown",
   "metadata": {},
   "source": []
  },
  {
   "cell_type": "code",
<<<<<<< HEAD
   "execution_count": 76,
   "metadata": {
    "collapsed": false
   },
=======
   "execution_count": 40,
   "metadata": {},
>>>>>>> origin/cleaningMethods
   "outputs": [],
   "source": [
    "#change the vertical line handling so that the second list are the value of the bounding functions\n",
    "#this amounts to a scaffolding in which each case though be tested in case errors were made\n",
    "\n",
    "#add more details as to what all of this is such as what r1 r2 etc are\n",
    "#also change the parameter names of height and width to diameter and thickness repectively\n",
    "\n",
    "########### comence commenting extravaganza ################# delayed\n",
    "\n",
    "\n",
    "\n",
    "\n",
    "\n",
    "class lens:\n",
    "    def __init__(self,surfaceList=[],n=lambda x : 1.5):\n",
    "        \n",
    "        self.refractiveIndex = n\n",
    "        self.surfaceList = surfaceList\n",
    "    \n",
    "    \n",
    "    #note these class methods must take on an constructor properties we need such as material properties\n",
    "    #\n",
    "    #\n",
    "    @classmethod\n",
    "    def predefined(cls, name, nFunction=lambda x : 1.5, xOffSet=0, yOffSet=0):#I should probably include the r1, r2, height, and width values in these examples\n",
    "        '''\n",
    "        Here is a series of predefined surfaces that could be used as examples of the behavior of each lens type\n",
    "        They also provide concrete models of what is generalized in the gaussian optics section below so that \n",
    "        someone wishing to use the code could troubleshoot via mimicing the structure shown below\n",
    "        '''\n",
    "        if(name == \"biconvex\"):\n",
    "            f1 = lambda x : -(-(x-5-xOffSet)**2 + 9)**(1/2) + 5 + yOffSet\n",
    "            f2 = lambda x : (-(x-5-xOffSet)**2 + 9)**(1/2) + 1 +yOffSet\n",
    "            x0 = opt.fsolve(lambda x: f1(x)-f2(x), 2+xOffSet, xtol=1e-10, maxfev=200)\n",
    "            x1 = opt.fsolve(lambda x: f1(x)-f2(x), 7+xOffSet, xtol=1e-10, maxfev=200)\n",
    "            return cls(surfaceList = [[[x0[0],x1[0]],[f1,f2]]],n=nFunction)\n",
    "\n",
    "        elif(name == \"biconcave\"):\n",
    "            mySurfaceList = []\n",
    "            f1 = lambda x : (-(x-5-xOffSet)**2 + 9)**(1/2) + 1 +yOffSet\n",
    "            f2 = lambda x : -(-(x-5-xOffSet)**2 + 9)**(1/2) + 8 + yOffSet\n",
    "            \n",
    "            mySurfaceList.append([[3+xOffSet],[f1(3+xOffSet),f2(3+xOffSet)]])\n",
    "            mySurfaceList.append([[3+xOffSet,7+xOffSet],[f1,f2]])\n",
    "            mySurfaceList.append([[7+xOffSet],[f1(7+xOffSet),f2(7+xOffSet)]])\n",
    "            return cls(surfaceList=mySurfaceList,n=nFunction)  \n",
    "\n",
    "        elif(name == \"planar convex\"):\n",
    "            f1 = lambda x : -(-(x-5-xOffSet)**2 + 9)**(1/2) + 5 + yOffSet\n",
    "            f2 = lambda x : 3 + yOffSet\n",
    "            x0 = opt.fsolve(lambda x: f1(x)-f2(x), 2+xOffSet, xtol=1e-10, maxfev=200)\n",
    "            x1 = opt.fsolve(lambda x: f1(x)-f2(x), 7+xOffSet, xtol=1e-10, maxfev=200)\n",
    "            return cls(surfaceList = [[[x0[0],x1[0]],[f1,f2]]],n=nFunction)\n",
    "\n",
    "        elif(name == \"planar concave\"):\n",
    "            mySurfaceList = []\n",
    "            f1 = lambda x : (-(x-5-xOffSet)**2 + 9)**(1/2) + 1 +yOffSet\n",
    "            f2 = lambda x : 6 + yOffSet\n",
    "            mySurfaceList.append([[3+xOffSet],[f1(3+xOffSet),f2(3+xOffSet)]])\n",
    "            mySurfaceList.append([[3+xOffSet,7+xOffSet],[f1,f2]])\n",
    "            mySurfaceList.append([[7+xOffSet],[f1(7+xOffSet),f2(7+xOffSet)]])\n",
    "            return cls(surfaceList=mySurfaceList, n=nFunction)\n",
    "\n",
    "        elif(name == \"meniscus convex\"):\n",
    "            f1 = lambda x: -(-(x-5-xOffSet)**2 + 16)**(1/2) + 6+yOffSet\n",
    "            f2 = lambda x : -(-(x-5-xOffSet)**2 + 36)**(1/2) + 9+yOffSet\n",
    "            x0 = opt.fsolve(lambda x: f1(x)-f2(x), 2+xOffSet, xtol=1e-10, maxfev=200)\n",
    "            x1 = opt.fsolve(lambda x: f1(x)-f2(x), 8+xOffSet, xtol=1e-10, maxfev=200)\n",
    "            return cls(surfaceList = [[[x0[0],x1[0]],[f1,f2]]],n=nFunction)\n",
    "\n",
    "        elif(name == \"meniscus concave\"):#I could save using the append opperation and memory initialization by just expliciting spelling out what I wanted my list to be\n",
    "            mySurfaceList = []\n",
    "            f1 = lambda x : -(-(x-5-xOffSet)**2 + 9)**(1/2) + 4.5+ yOffSet\n",
    "            f2 = lambda x : -(-(x-5-xOffSet)**2 + 49)**(1/2) + 8 + yOffSet\n",
    "            mySurfaceList.append([[3+xOffSet],[f1(3+xOffSet),f2(3 + xOffSet)]])\n",
    "            mySurfaceList.append([[3+xOffSet,7+xOffSet],[f1,f2]])\n",
    "            mySurfaceList.append([[7+xOffSet],[f1(7+xOffSet),f2(7 + xOffSet)]])\n",
    "            return cls(surfaceList = mySurfaceList,n=nFunction)\n",
    "        else:\n",
    "            raise(Exception(\"Unknown lens type, please enter one of the following:\\nbiconvex, biconcave, planar convex, planar concave, meniscus convex, meniscus concave\"))\n",
    "    \n",
    "    \n",
    "    #put in a max option so that we can easily get the lens as wide as possible for a given set of radii\n",
    "    #also we need the meniscus convex and concave cases for negative radii\n",
    "    # work on expanding the convex cases so that they can handle lens with thickness greater than what then surfaces intersecting would normally allow\n",
    "    @classmethod\n",
    "    def gaussianOptics(cls,r1=0,r2=0,thickness=0,diameter=0,xOffSet=0,yOffSet=0,nFunction=lambda x:1.5):\n",
    "        '''\n",
    "        The basic stucture of this function is to deal with the various gaussian optics inputs we could recieve and handle them appropriately\n",
    "        After some error handling most cases take on the following characteristic structure:\n",
    "        \n",
    "        if not explicit, applies to both\n",
    "        \n",
    "        * for concave: ensure enough information is provided\n",
    "        * determine rmax for plotting and doing math later\n",
    "        * define the two surface functions\n",
    "        * for convex: determine where the surfaces intersect\n",
    "        * use the helper method to concisely construct our surface data \n",
    "    \n",
    "        '''\n",
    "        \n",
    "        \n",
    "        \n",
    "        def abrvFunc(r1,r2,f1,f2,diameter,x0=0,x1=0,xOffSet=0): #this is a helper function to make the code more readable(or less eye watering if you prefer)\n",
    "            rmax = max(r1,r2)\n",
    "            if(x0 != 0 or x1 != 0):\n",
    "                if(x1[0]-x0[0] <= diameter):#we can either raise an exception or just use the maximal diameter\n",
    "                    raise(Exception(\"this diameter exceeds the limitations imposed by the specified diameter\"))\n",
    "            xmin = rmax - diameter/2\n",
    "            xmax = rmax + diameter/2\n",
    "            mySurfaceList = [[[xmin+xOffSet],[f1(xmin+xOffSet),f2(xmax+xOffSet)]]]\n",
    "            mySurfaceList.append([[xmin+xOffSet,xmax+xOffSet],[f1,f2]])\n",
    "            mySurfaceList.append([[xmax+xOffSet],[f1(xmax+xOffSet),f2(xmax+xOffSet)]])\n",
    "            return mySurfaceList\n",
    "        \n",
    "        #widths should change as the relative orientation of the radii change\n",
    "        \n",
    "        \n",
    "        if(((r1 or r2 or diameter) and thickness) or ((r1 or r2) and diameter) or (r1 and r2)):#this should say that at least two of the following(r1,r2,width,height) \n",
    "            #have to be given \n",
    "            \n",
    "            if(thickness < 0 or diameter < 0): #deal with negative width\n",
    "                raise(Exception(\"width and height are constrained to be greater than or equal to zero\"))\n",
    "            \n",
    "            elif(thickness == 0 and diameter == 0 ):\n",
    "                raise(Exception(\"at minimum a width or height must be specified for a lens along with r1 or r2\"))\n",
    "            \n",
    "            elif(r1 > 0 and r2 > 0 and r1 < r2):#meniscus convex\n",
    "                if(not thickness):\n",
    "                    thickness = abs(r1-(r1**2 - diameter**2/4)**(1/2) - r2 + (r2**2-diameter**2/4)**(1/2))\n",
    "                rmax = r2\n",
    "                f1 = lambda x : (-(x-rmax-xOffSet)**2 + r1**2)**(1/2) + rmax+1 +yOffSet\n",
    "                f2 = lambda x : (-(x-rmax-xOffSet)**2 + r2**2)**(1/2) + rmax+1 - thickness + r2 - r1 +yOffSet\n",
    "                x0 = opt.fsolve(lambda x: f1(x)-f2(x), xOffSet, xtol=1e-10, maxfev=200)\n",
    "                x1 = opt.fsolve(lambda x: f1(x)-f2(x), x[0]+rmax+xOffSet, xtol=1e-10, maxfev=200)\n",
    "                if(diameter):\n",
    "                    return cls(surfaceList=abrvFunc(r1,r2,f1,f2,diameter,x0,x1,xOffSet=xOffSet),n=nFunction)\n",
    "                return cls(surfaceList = [[[x0[0],x1[0]],[f1,f2]]],n=nFunction)\n",
    "                \n",
    "                    \n",
    "            elif(r1 > 0 and r2 == 0):#plano-convex case 1\n",
    "                if(not thickness):\n",
    "                    thickness = abs(r1-(r1**2-diameter**2/4)**(1/2))\n",
    "                rmax = r1\n",
    "                f1 = lambda x : (-(x-rmax-xOffSet)**2 + r1**2)**(1/2) + rmax+1 +yOffSet\n",
    "                f2 = lambda x : rmax+1+thickness+yOffSet\n",
    "                x0 = opt.fsolve(lambda x: f1(x)-f2(x), xOffSet, xtol=1e-10, maxfev=200)\n",
    "                x1 = opt.fsolve(lambda x: f1(x)-f2(x), x[0]+rmax+xOffSet, xtol=1e-10, maxfev=200)\n",
    "                if(diameter):    \n",
    "                    return cls(surfaceList=abrvFunc(r1,r2,f1,f2,diameter,x0,x1,xOffSet=xOffSet),n=nFunction)\n",
    "                return cls(surfaceList = [[[x0[0],x1[0]],[f1,f2]]],n=nFunction)\n",
    "\n",
    "            elif(r1 > 0 and r2 < 0):#biconvex\n",
    "                r2 = -r2\n",
    "                if(not thickness):\n",
    "                    thickness = abs(r1-(r1**2-diameter**2/4)**(1/2)) + abs(r2-(r2**2-diameter**2/4)**(1/2))\n",
    "                rmax = max(r1, r2)\n",
    "                rmin = min(r1,r2)\n",
    "                f1 = lambda x : -(-(x-rmax-xOffSet)**2 + r1**2)**(1/2) + rmax+1+yOffSet\n",
    "                f2 = lambda x : (-(x-rmax-xOffSet)**2 + r2**2)**(1/2) + rmax+1 + thickness-r1-r2+yOffSet\n",
    "                x0 = opt.fsolve(lambda x: f1(x)-f2(x), xOffSet, xtol=1e-10, maxfev=200)\n",
    "                x1 = opt.fsolve(lambda x: f1(x)-f2(x), x0[0]+rmax+xOffSet, xtol=1e-10, maxfev=200)\n",
    "                if(diameter):\n",
    "                    return cls(surfaceList=abrvFunc(r1,r2,f1,f2,diameter,x0,x1,xOffSet=xOffSet),n=nFunction)\n",
    "                return cls(surfaceList = [[[x0[0],x1[0]],[f1,f2]]],n=nFunction)\n",
    "\n",
    "            elif(r1 == 0 and r2 > 0):#plano-concave case 1\n",
    "                if(diameter == 0 or thickness == 0):\n",
    "                    raise(Exception(\"Insufficient information provided for concave class object, both diameter and thickness must be postive\"))\n",
    "                rmax = r2\n",
    "                f1 = lambda x : 1+yOffSet+r2\n",
    "                f2 = lambda x : -(-(x-rmax-xOffSet)**2 + r2**2)**(1/2) + 1+rmax+thickness+yOffSet\n",
    "                return cls(surfaceList=abrvFunc(r1,r2,f1,f2,diameter,xOffSet=xOffSet),n=nFunction) \n",
    "\n",
    "            elif(r1 == 0 and r2 == 0):#rectangle\n",
    "                mySurfaceList = [[[1+xOffSet],[1+yOffSet,thickness+1+yOffSet]]]\n",
    "                mySurfaceList.append([[1+xOffSet,diameter+1+xOffSet],[lambda x : 1+yOffSet, lambda x : thickness+1+yOffSet]])\n",
    "                mySurfaceList.append([[diameter+1+xOffSet],[1+yOffSet,thickness+1+yOffSet]])\n",
    "                return cls(surfaceList=mySurfaceList,n=nFunction)\n",
    "\n",
    "            elif(r1 == 0 and r2 < 0):#plano-convex case 2\n",
    "                if(not thickness):\n",
    "                    thickness = abs(r2-(r2**2-diameter**2/4)**(1/2))\n",
    "                r2 = -r2\n",
    "                rmax = r2\n",
    "                f1 = lambda x : (-(x-rmax-xOffSet)**2 + r2**2)**(1/2) +1+yOffSet\n",
    "                f2 = lambda x : 1+yOffSet+r2-thickness#I'm dubious of this, think about it\n",
    "                x0 = opt.fsolve(lambda x: f1(x)-f2(x), xOffSet, xtol=1e-10, maxfev=200)\n",
    "                x1 = opt.fsolve(lambda x: f1(x)-f2(x), x0[0]+rmax+xOffSet, xtol=1e-10, maxfev=200)\n",
    "                #print(x0,x1)\n",
    "                if(diameter):\n",
    "                    return cls(surfaceList=abrvFunc(r1,r2,f1,f2,diameter,x0,x1,xOffSet=xOffSet),n=nFunction)\n",
    "                return cls(surfaceList = [[[x0[0],x1[0]],[f1,f2]]],n=nFunction)\n",
    "                \n",
    "            elif(r1 < 0 and r2 > 0):#biconcave\n",
    "                if(diameter == 0 or thickness == 0):\n",
    "                    raise(Exception(\"Insufficient information provided for concave class object, both diameter and thickness must be positive\"))\n",
    "                r1 = -r1\n",
    "                rmax = max(r1,r2)\n",
    "                f1 = lambda x : (-(x-rmax-xOffSet)**2 + r1**2)**(1/2) + rmax+1+yOffSet\n",
    "                f2 = lambda x : -(-(x-rmax-xOffSet)**2 + r2**2)**(1/2) + rmax+1 + thickness +r1+r2+yOffSet\n",
    "                return cls(surfaceList=abrvFunc(r1,r2,f1,f2,diameter,xOffSet=xOffSet),n=nFunction)\n",
    "\n",
    "            elif(r1 < 0 and r2 == 0):#plano-concave case 2\n",
    "                if(diameter == 0 or thickness == 0):\n",
    "                    raise(Exception(\"Insufficient information provided for concave class object, both diameter and thickness must be positive\"))\n",
    "                r1 = -r1\n",
    "                rmax = r1\n",
    "                f1 = lambda x : (-(x-rmax-xOffSet)**2 + r1**2)**(1/2) + 1+yOffSet\n",
    "                f2 = lambda x : 1 + r1 + thickness+yOffSet\n",
    "                return cls(surfaceList=abrvFunc(r1,r2,f1,f2,diameter,xOffSet=xOffSet),n=nFunction)\n",
    "            \n",
    "            elif(r1 > 0 and r2 > 0):#meniscus concave\n",
    "                if(diameter == 0 or thickness == 0):\n",
    "                    raise(Exception(\"Insufficient information provided for concave class object, both diameter and thickness must be positive\"))\n",
    "                rmin = min(r1,r2)\n",
    "                rmax = max(r1,r2)\n",
    "                f1 = lambda x : (-(x-rmax-xOffSet)**2 + r1**2)**(1/2) + rmax+1+yOffSet\n",
    "                f2 = lambda x : (-(x-rmax-xOffSet)**2 + r2**2)**(1/2) + rmax+1 - thickness - r2 + r1+yOffSet\n",
    "                if(diameter < 2*rmin):#reasonable height\n",
    "                    return cls(surfaceList=abrvFunc(r1,r2,f1,f2,diameter,xOffSet=xOffSet),n=nFunction)\n",
    "                else:#unreasonable height\n",
    "                    raise(Exception(\"This is an unreasonable diameter for a meniscus concave lens\"))\n",
    "        else:\n",
    "            raise(Exception(\"Not enough information supplied or diameter and thickness are 0 which is impossible\"))#probably should print inputs\n",
    "        \n",
    "    #unsure how much burden I want to put on the user\n",
    "    #we could take a dictionary of inputs which might be more readable but that might also make the whole process more complicated\n",
    "    #insofar as translating that dictionary set up into our list structure\n",
    "    @classmethod\n",
    "    def custom(cls,mySurfaceList,nFunction=lambda x:1.5):\n",
    "        return cls(surfaceList=mySurfaceList,n=nFunction)\n",
    "    #there should probably some rhobust error checking for dealing with the defined surfaces\n",
    "    \n",
    "    def sellmeier(self,wavelength):\n",
    "        B1,B2,B3,C1,C2,C3 = self.sellmeier\n",
    "        if(B1 and B2 and B3 and C1 and C2 and C3):\n",
    "            wavelength *= 1e6\n",
    "            return lambda x : (1 + B1*wavelength**2/(wavelength**2 - C1) + B2*wavelength**2/(wavelength**2 - C2) + B3*wavelength**2/(wavelength**2 - C3) )**(1/2)\n",
    "        return self.refractiveIndex"
   ]
  },
  {
   "cell_type": "code",
<<<<<<< HEAD
   "execution_count": 77,
=======
   "execution_count": 41,
>>>>>>> origin/cleaningMethods
   "metadata": {
    "collapsed": true
   },
   "outputs": [],
   "source": [
    "#[([xStart,xStop],[func1, func2]),...]"
   ]
  },
  {
   "cell_type": "code",
<<<<<<< HEAD
   "execution_count": 78,
   "metadata": {
    "collapsed": false
   },
=======
   "execution_count": 42,
   "metadata": {},
>>>>>>> origin/cleaningMethods
   "outputs": [],
   "source": [
    "class driver:\n",
    "    def __init__(self,n,listOfRays,lens):\n",
    "        self.nMedium = n\n",
    "        self.listOfRays = listOfRays\n",
    "        self.lens = lens\n",
    "        \n",
    "    def rayFunc(self):\n",
    "        '''\n",
    "        Here are some helper functions. \n",
    "        normalVectorFunc - produces normal vectors to surfaces using calculus\n",
    "        thetaCritical - determines what the critical angle is for two media\n",
    "        rayIntersectSurface - determines if a ray will intersect a surface \n",
    "        \n",
    "        '''\n",
    "        \n",
    "        def normalVectorFunc(function, value): # Value is the x value where the given ray intersects the lens surface\n",
    "            fprime = derivative(function, value, dx=1e-13, order=21)\n",
    "            return [-fprime/(1+fprime**2)**(0.5),1/(1+fprime**2)**(0.5)]\n",
    "        \n",
    "        def thetaCritical(n1, n2):#these should be effective indices in the case where they are functions\n",
    "            return np.arcsin(n2/n1)\n",
    "        \n",
    "        #expected inputs for line: [slope, x intercept], surface is a function, value is a reasonable estimate for where the zero occurs\n",
    "        def rayIntersectSurface(line, surface, value): \n",
    "            return opt.fsolve(func=lambda x: surface(x)-x*line[0] + line[0]*line[1], x0=value, xtol=1e-10, maxfev=200, factor=1)#f(x) - m(x-x0) = 0\n",
    "        \n",
    "        def refractedRayFunction(normalVector, angle, isNegative):\n",
    "            xN, yN = normalVector\n",
    "            if(isNegative):\n",
    "                xN, yN = -xN, -yN\n",
    "            refractedRay1 = [xN*np.cos(-theta2) - yN*np.sin(-theta2), xN*np.sin(-theta2) + yN*np.cos(-theta2)]\n",
    "            refractedRay2 = [xN*np.cos(theta2) - yN*np.sin(theta2), xN*np.sin(theta2) + yN*np.cos(theta2)]\n",
    "            return refractedRay1, refractedRay2\n",
    "        #lets make it more modular :D\n",
    "        def surfaceFinderPart(ray, listOfSurfaces):\n",
    "            x0,y0 = ray.sourceLocation\n",
    "            minDistance = 1e10\n",
    "            minDistSurface = -1\n",
    "            xMin, yMin = -1,-1\n",
    "            for s in range(len(listOfSurfaces)):\n",
    "                domain, surfaces = listOfSurfaces[s]\n",
    "                #should add the shifted case, where there are two line segments \n",
    "                if(len(domain) == 1):#this is a vertical line \n",
    "                    pointOfIntersection = ray.slope*domain[0] + ray.yIntercept\n",
    "                    if(pointOfIntersection >= surfaces[0] and pointOfIntersection <= surfaces[1]):\n",
    "                        distance = ((domain[0]-x0)**2 + (pointOfIntersection-y0)**2)**(1/2)\n",
<<<<<<< HEAD
    "                        checkAngle = np.arctan2(pointOfIntersection-y0,domain[0]-x0)\n",
    "                        rayAngle = ray.angle\n",
    "                        if(checkAngle < 0):\n",
    "                            checkAngle+=2*pi\n",
    "                        if(checkAngle > rayAngle+0.001 or checkAngle < rayAngle-0.001): #this ray intersection is clearly bad so disregard it\n",
    "                            continue\n",
    "                        if(distance < minDistance and distance > 0.001):\n",
    "                            #print(rayAngle*180/pi, checkAngle*180/pi)\n",
=======
    "                        if(distance < minDistance and distance > 0.001):\n",
>>>>>>> origin/cleaningMethods
    "                            minDistance = distance\n",
    "                            xMin, yMin = domain, pointOfIntersection\n",
    "                            minDistSurface = [domain[0],surfaces[:2]] #I use this as the label to differentiate between the vertical line case and the rest\n",
    "                    elif(len(surfaces) == 4):\n",
    "                        print(\"update this part with the pieces from above \")\n",
    "                        if(pointOfIntersection >= surfaces[2] and pointOfIntersection <= surfaces[3]):\n",
    "                            distance = ((domain[0]-x0)**2 + (pointOfIntersection-y0)**2)**(1/2)\n",
    "                            if(distance < minDistance and distance > 0.001):\n",
    "                                minDistance = distance\n",
    "                                xMin, yMin = domain, pointOfIntersection\n",
    "                                minDistSurface = [domain[0],surfaces[2:4]]\n",
    "                #should probably include error checking to ensure that the length of any of these domain lists is either 1 or 2 \n",
    "                else:#we're not working with a vertical line\n",
    "                    #given a domain (a,b), my strategy is to use fsolve with an intial guess of (a+b)/2\n",
    "                    #unsure if this is sufficiently robust\n",
<<<<<<< HEAD
    "                    if(x0 > domain[0] and x0 < domain[1]):\n",
    "                        initial_guess = [i*(domain[0]+domain[1])/8 for i in range(1,8)]\n",
    "                    else:\n",
    "                        initial_guess = [(domain[0]+domain[1])/2]\n",
    "                    for guess in initial_guess:\n",
    "                        for i in range(len(surfaces)):#we have to loop over all the surfaces defined on this domain\n",
    "                            surface_i = surfaces[i]\n",
    "                            listOfPointsOfIntersection = rayIntersectSurface([ray.slope, ray.xIntercept], surface_i, guess)\n",
    "                            #I think the best point is going to be the first one on the list, this may be wrong\n",
    "                            a, b = domain\n",
    "                            for pointOfIntersection in listOfPointsOfIntersection:\n",
    "                                if(pointOfIntersection > a and pointOfIntersection < b):\n",
    "                                    #we've got a valid intersection\n",
    "                                    y1 = surface_i(pointOfIntersection)\n",
    "                                    distance = ((pointOfIntersection-x0)**2 + (y1-y0)**2)**(1/2)\n",
    "                                    checkAngle = np.arctan2(y1-y0,pointOfIntersection-x0)\n",
    "                                    rayAngle = ray.angle\n",
    "                                    if(checkAngle < 0):\n",
    "                                        checkAngle+=2*pi\n",
    "                                    if(checkAngle > rayAngle+0.001 or checkAngle < rayAngle-0.001): #this ray intersection is clearly bad so disregard it\n",
    "                                        continue\n",
    "                                    if(distance < minDistance and distance > 0.001):#put in a min distance, this might fix the ray not moving problem\n",
    "                                        minDistance = distance\n",
    "                                        xMin, yMin = pointOfIntersection, y1\n",
    "                                        minDistSurface = [surface_i]\n",
=======
    "                    initial_guess = (domain[0]+domain[1])/2\n",
    "                    for i in range(len(surfaces)):#we have to loop over all the surfaces defined on this domain\n",
    "                        surface_i = surfaces[i]\n",
    "                        #print(i)\n",
    "                        #print(ray.slope,ray.xIntercept, ray.identity)\n",
    "                        listOfPointsOfIntersection = rayIntersectSurface([ray.slope, ray.xIntercept], surface_i, initial_guess)\n",
    "                        #I think the best point is going to be the first one on the list, this may be wrong\n",
    "                        a, b = domain\n",
    "\n",
    "                        for pointOfIntersection in listOfPointsOfIntersection:\n",
    "                            if(pointOfIntersection > a and pointOfIntersection < b):\n",
    "                                #we've got a valid intersection\n",
    "                                y1 = surface_i(pointOfIntersection)\n",
    "                                distance = ((pointOfIntersection-x0)**2 + (y1-y0)**2)**(1/2)\n",
    "                                checkAngle = np.arctan2(y1-y0,pointOfIntersection-x0)\n",
    "                                rayAngle = ray.angle\n",
    "                                if(checkAngle > rayAngle+0.01 or checkAngle < rayAngle-0.01): #this ray intersection is clearly bad so disregard it\n",
    "                                    continue\n",
    "                                if(distance < minDistance and distance > 0.001):#put in a min distance, this might fix the ray not moving problem\n",
    "                                    minDistance = distance\n",
    "                                    xMin, yMin = pointOfIntersection, y1\n",
    "                                    minDistSurface = [surface_i]\n",
>>>>>>> origin/cleaningMethods
    "            return xMin, yMin, minDistSurface\n",
    "        \n",
    "        passes = 0\n",
    "        listOfRays = self.listOfRays\n",
    "        listOfSurfaces = self.lens.surfaceList \n",
    "        while(passes < 5):#changing this part is going to require a lot of effort, not as much now, even less now\n",
    "            listOfThingsToAdd = []\n",
    "            for i in range(len(listOfRays)):\n",
    "                ray = listOfRays[i]\n",
    "                xMin,yMin, minDistSurface = surfaceFinderPart(ray,listOfSurfaces)\n",
    "                #we have now found the next point of intersection or exhausted all possibilities so we can move on to the rest of this\n",
    "                if(minDistSurface == -1):#no points of intersection, may as well move on to the next ray\n",
    "                    continue\n",
    "                #before we proceed we again need to have the special case handled for vertical lines :(\n",
    "                if(len(minDistSurface) == 2): #the special case\n",
    "                    angle = ray.angle\n",
    "                    xMin = xMin[0]\n",
    "                    if(angle < pi/2 or angle > 3*pi/2):\n",
    "                        normalVector = [-1,0]\n",
    "                    else:\n",
    "                        normalVector = [1,0]\n",
    "                else:\n",
    "                    normalVector = normalVectorFunc(minDistSurface[0],xMin)\n",
    "                    \n",
    "                if(np.dot(normalVector, ray.unitVector) > 0):\n",
    "                    normalVector = [-i for i in normalVector]\n",
    "                    \n",
    "                theta1 = np.arccos(np.dot(ray.unitVector, normalVector))\n",
    "                #we need to determine whether we're inside or outside the lens\n",
    "                if(ray.objIndex == -1):\n",
    "                    n1 = self.nMedium\n",
    "                    n2 = self.lens.refractiveIndex\n",
    "                else:\n",
    "                    n1 = self.lens.refractiveIndex#this could be generalized fairly easily by having the objIndex index the list of our lenses\n",
    "                    n2 = self.nMedium\n",
    "                wavelength = ray.wavelength\n",
<<<<<<< HEAD
    "                if(theta1 > pi/2):\n",
    "                    theta1 = pi - theta1\n",
    "                \n",
    "                if(theta1 >= thetaCritical(n1(wavelength),n2(wavelength))):#internal reflection case need to do this still\n",
=======
    "                if(np.dot(normalVector, ray.unitVector) > 0):\n",
    "                    normalVector = [-i for i in normalVector]\n",
    "                if(theta1 > pi/2):\n",
    "                    theta1 = pi-theta1#theta1-=pi/2\n",
    "                if(theta1 >= thetaCritical(n1(wavelength),n2(wavelength))):#internal reflection case need to do this still\n",
    "                    \n",
    "                    \n",
    "                    print(normalVector)\n",
    "                    print(theta1*180/pi)\n",
>>>>>>> origin/cleaningMethods
    "                    theta2 = theta1\n",
    "                    refractedRay1, refractedRay2 = refractedRayFunction(normalVector, theta2, 0)\n",
    "                    if(np.dot(refractedRay1, ray.unitVector) > np.dot(refractedRay2, ray.unitVector)):#don't use absolute values here\n",
    "                        refractedRay = refractedRay1\n",
    "                    else:\n",
    "                        refractedRay = refractedRay2\n",
    "                    objI = 1\n",
    "                    ray.intensityList.append(ray.intensity)\n",
    "                else:\n",
    "                    i0 = ray.intensity\n",
    "                    theta2 = np.arcsin((n1(wavelength)/n2(wavelength))*np.sin(theta1))\n",
    "                    refractedRay1, refractedRay2 = refractedRayFunction(normalVector, theta2, 1)\n",
    "                    if(abs(np.dot(refractedRay1, ray.unitVector)) > abs(np.dot(refractedRay2, ray.unitVector))):\n",
    "                        refractedRay = refractedRay1\n",
    "                    else:\n",
    "                        refractedRay = refractedRay2\n",
    "                    if(n2 == self.nMedium):\n",
    "                        objI = 0\n",
    "                    else:\n",
    "                        objI = 1\n",
    "                    reflect1, reflect2 = refractedRayFunction(normalVector, theta1, 0)\n",
    "                    if(np.dot(reflect1, ray.unitVector) > np.dot(reflect2, ray.unitVector)):#don't use absolute values here\n",
    "                        reflect = reflect1\n",
    "                    else:\n",
    "                        reflect = reflect2\n",
    "                    Tperpendicular =  n2(wavelength)*np.cos(theta2)/(n1(wavelength)*np.cos(theta1))*(Ray.tPerp(theta1,theta2))**2\n",
    "                    Tparallel = n2(wavelength)*np.cos(theta2)/(n1(wavelength)*np.cos(theta1))*(Ray.tPara(theta1,theta2))**2\n",
    "                    ray.perpendiular = Tperpendicular/(Tperpendicular+Tparallel)\n",
    "                    ray.parallel = Tparallel/(Tperpendicular+Tparallel)\n",
    "                    ray.update_intensity_history(theta1, theta2, n1, n2)\n",
    "                    reflectedXaxisTheta = np.arctan2(reflect[1],reflect[0])\n",
    "                    if(reflectedXaxisTheta < 0):\n",
    "                        reflectedXaxisTheta += 2*np.pi\n",
    "                    newRay = Ray(xMin, yMin, reflectedXaxisTheta, intensity = (i0 - ray.intensity))\n",
    "                    #print(i0 - ray.intensity, newRay.identity, newRay.intensity)\n",
    "                    #newRay.intensity =  i0 - ray.intensity\n",
    "                    Rperp = Ray.rPerp(theta1,theta2)**2\n",
    "                    Rpara = Ray.rPara(theta1,theta2)**2\n",
    "                    newRay.perpendicular = Rperp/(Rperp+Rpara)\n",
    "                    newRay.parallel = Rpara/(Rperp+Rpara)\n",
    "                    \n",
    "                    #print(\"-------------\", Rperp/(Rperp+Rpara),Rpara/(Rperp+Rpara), Rperp, Rpara)\n",
    "                    #print(Rperp,Rpara,Tperp,Tpara)\n",
    "                    if(objI):\n",
    "                        newRay.objI = 0\n",
    "                    else:\n",
    "                        newRay.objI = 1\n",
    "                    #comment this part out to look at the other behavior\n",
    "                    listOfThingsToAdd.append(newRay)\n",
    "                ray.normalVectorHistory.append([[xMin, normalVector[0]+xMin],[yMin,normalVector[1]+yMin]])\n",
    "                refractedXaxisTheta = np.arctan2(refractedRay[1],refractedRay[0])#new theta of refracted ray relative to x axis\n",
    "                if(refractedXaxisTheta < 0):\n",
    "                    refractedXaxisTheta += 2*np.pi\n",
    "                ray.angleHistory.append(theta1*180/pi)\n",
    "                ray.angleHistory.append(theta2*180/pi)\n",
    "                ray.update_location_history(xMin,yMin,refractedXaxisTheta,objI)\n",
    "                #uncomment this part to keep working on the fresnel stuff\n",
    "            listOfRays+=listOfThingsToAdd\n",
    "            passes+=1\n",
    "    def plotter(self,fig): #this method will inevitably grow to be a monster as we add more and fix more bugs\n",
    "        sub = fig.add_subplot(111)\n",
    "        surfaceList = self.lens.surfaceList\n",
    "        #first we have to handle graphing the lens or lenses\n",
    "        for s in range(len(surfaceList)):\n",
    "            domain, surfaces = surfaceList[s]\n",
    "            if(len(domain) == 1):#this will need some refining for the 4 point case\n",
    "                x = domain[0]\n",
    "                xList = [x]*len(surfaces)\n",
    "                sub.plot(xList,surfaces)\n",
    "            else:\n",
    "                x = np.linspace(domain[0],domain[1],1000)\n",
    "                for function in surfaces:#this will probably need special handling for constant functions\n",
    "                    if(function(1) == function(2) and function(1) == function(1.5)):#this seems to be a constant function, should probably put in more \n",
    "                        #robust handling when the domain for the contain function isn't so nice\n",
    "                        yList = [function(1)]*len(x)\n",
    "                    else:\n",
    "                        yList = function(x)\n",
    "                    sub.plot(x, yList)\n",
    "        rayList = self.listOfRays\n",
    "        for i in range(len(rayList)):\n",
    "            xAx, yAx = zip(*rayList[i].locationHistory)\n",
    "            xAxList, yAxList = list(xAx), list(yAx)\n",
    "            length = len(xAx)\n",
    "            #if(length < 2):\n",
    "            #    continue\n",
    "            ray = rayList[i]\n",
    "            #print(ray.identity, ray.intensityList)\n",
    "            angle = ray.angle\n",
    "            slope = ray.slope\n",
    "            ray1, ray2 = [xAxList[-1]-5, yAxList[-1]-5*slope],[xAxList[-1]+5, yAxList[-1]+5*slope]\n",
    "            checkAngle = np.arctan2(ray1[1]-yAxList[-1],ray1[0]-xAxList[-1])\n",
    "            if(checkAngle < 0):\n",
    "                checkAngle+=2*pi\n",
    "            if(checkAngle > angle +0.001 or checkAngle < angle - 0.001):\n",
    "                xAxList.append(ray2[0])\n",
    "                yAxList.append(ray2[1])\n",
    "            else:\n",
    "                xAxList.append(ray1[0])\n",
    "                yAxList.append(ray1[1])\n",
    "                \n",
    "            #sub.plot(xAxList[:2],yAxList[:2],color=plt.cm.gray(1),alpha=(rayList[i].intensityList[0])**4)\n",
    "            for j in range(0,len(rayList[i].intensityList)):\n",
    "                #print(rayList[i].intensityList[j])\n",
    "                #print(1 + np.log10(rayList[i].intensityList[j])/100)\n",
    "                #if(rayList[i].intensityList[j] < 0.5):\n",
    "                #    continue\n",
    "                sub.plot(xAxList[j:j+2],yAxList[j:j+2],color=plt.cm.gray(1-rayList[i].intensityList[j]))#,alpha=(rayList[i].intensityList[j]))\n",
    "            #    print(rayList[i].intensityList[j], i)\n",
    "            #    sub.plot(xAxList[j:j+2],yAxList[j:j+2],color=plt.cm.gray(1),alpha=(rayList[i].intensityList[j]))\n",
    "            #sub.plot(xAxList[-2:],yAxList[-2:],color=plt.cm.gray(1),alpha= (rayList[i].intensityList[-1])**4)\n",
    "            #print(xAxList[-2:],yAxList[-2:])\n",
    "            #sub.plot(xAxList, yAxList, 'b',color=myrgba)#, #label=\"ray {0}\".format(i))  \n",
    "            \n",
    "            #sub.plot(xAxList, yAxList, 'b',color=plt.cm.jet(i/len(rayList)), label=\"ray {0}\".format(rayList[i].identity))\n",
    "            #for normalVector in ray.normalVectorHistory:\n",
    "            #    sub.plot(normalVector[0],normalVector[1],'m-.')"
   ]
  },
  {
   "cell_type": "code",
   "execution_count": null,
   "metadata": {},
   "outputs": [],
   "source": []
  },
  {
   "cell_type": "markdown",
   "metadata": {},
   "source": [
    "bug list:\n",
    "1. problem with getting the surface finding feature to \"jump\" to the next surface, i.e. not just have the ray stand still\n",
    "2. problem with refracting off of the flat sides in a concave lens\n",
    "3. there probably should be explicit handling for vertical incoming rays\n",
    "4. the meniscus concave predefined doesn't seem to work, unsure why\n",
    "    removing the passes patch seemed to make some progress\n",
    "5. gaussian optics also seem to need some work\n",
    "6. width isn't working properly for the meniscus concave part\n",
    "7. there is no change in the ray propagation going through a flat vertical surface\n",
    "8. some new bugs have emerged since I have been working on the internal reflection portion\n",
    "9. moving meniscus convex 5 to left causes the plots to stop working\n",
    "\n",
    "to do:\n",
    "1. should minimize domain such that the smaller of the two curves is the limiting factor\n",
    "2. the biconvex and I suspect the other lenses too need some help with rays that would internally reflect\n",
    "3. more testing with the beam source version\n",
    "4. the slope from the right flag needs to be updated when we reflect off of a horizontal surface\n",
    "5. check if the assumption that we have to be in the 1st quandrant is the cause of the failure of the program\n",
    "6. add the ability for convex sections that are normally not intersecting\n",
    "7. deal with the gaussian optics case where both r1, r2 are negative\n",
    "8. work on the guess procedure for the surface intersection\n",
    "9. add the ability for a ray to hit the same surface twice (or more)\n",
    "\n",
    "fixed:(big)\n",
    "1. bug with the fringe rays intersecting in the middle"
   ]
  },
  {
   "cell_type": "code",
<<<<<<< HEAD
   "execution_count": 65,
=======
   "execution_count": 47,
>>>>>>> origin/cleaningMethods
   "metadata": {
    "scrolled": false
   },
   "outputs": [
    {
     "name": "stdout",
     "output_type": "stream",
     "text": [
<<<<<<< HEAD
      "C:\\Anaconda2\\envs\\python3\\lib\\site-packages\\ipykernel\\__main__.py:21: RuntimeWarning: invalid value encountered in arcsin\n",
      "C:\\Anaconda2\\envs\\python3\\lib\\site-packages\\ipykernel\\__main__.py:159: RuntimeWarning: invalid value encountered in sqrt\n",
      "C:\\Anaconda2\\envs\\python3\\lib\\site-packages\\scipy\\optimize\\minpack.py:161: RuntimeWarning: The iteration is not making good progress, as measured by the \n",
      "  improvement from the last ten iterations.\n",
      "  warnings.warn(msg, RuntimeWarning)\n",
      "C:\\Anaconda2\\envs\\python3\\lib\\site-packages\\ipykernel\\__main__.py:158: RuntimeWarning: invalid value encountered in sqrt\n"
=======
      "Using matplotlib backend: MacOSX\n",
      "[1, 0]\n",
      "77.3695668589\n",
      "[1, 0]\n",
      "77.9841910867\n",
      "[1, 0]\n",
      "78.3312651617\n",
      "[1, 0]\n",
      "78.76274531\n",
      "[1, 0]\n",
      "78.5513248326\n",
      "[1, 0]\n",
      "79.518232638\n",
      "[1, 0]\n",
      "79.4835634324\n",
      "[1, 0]\n",
      "79.4950908224\n",
      "[1, 0]\n",
      "79.9174475175\n",
      "[-0.59456182437674598, -0.80404989707964991]\n",
      "46.1953126109\n",
      "[-0.58336632819316936, -0.81220916464320891]\n",
      "44.9968193733\n",
      "[-0.56703590191126796, -0.82369307751350851]\n",
      "43.6662211513\n",
      "[-0.55173898903656993, -0.8340168391446926]\n",
      "42.2736436259\n",
      "[0.54248049442503465, -0.84006839791077126]\n",
      "42.5550116636\n",
      "[0.55344537720395548, -0.83288547499135279]\n",
      "43.933263141\n",
      "[0.5726332058202851, -0.81981169276363874]\n",
      "45.5693562608\n",
      "[-1, 0]\n",
      "79.7174172555\n",
      "[-1, 0]\n",
      "78.6588564919\n",
      "[-1, 0]\n",
      "78.3869684531\n",
      "[-1, 0]\n",
      "78.4569745783\n",
      "[-1, 0]\n",
      "78.1942472143\n",
      "[-1, 0]\n",
      "77.7983557272\n",
      "[-1, 0]\n",
      "77.0181803559\n"
     ]
    },
    {
     "name": "stderr",
     "output_type": "stream",
     "text": [
      "/Users/usmphysics/anaconda/lib/python3.5/site-packages/ipykernel/__main__.py:21: RuntimeWarning: invalid value encountered in arcsin\n",
      "/Users/usmphysics/anaconda/lib/python3.5/site-packages/scipy/optimize/minpack.py:161: RuntimeWarning: The iteration is not making good progress, as measured by the \n",
      "  improvement from the last ten iterations.\n",
      "  warnings.warn(msg, RuntimeWarning)\n",
      "/Users/usmphysics/anaconda/lib/python3.5/site-packages/scipy/optimize/minpack.py:161: RuntimeWarning: The iteration is not making good progress, as measured by the \n",
      "  improvement from the last five Jacobian evaluations.\n",
      "  warnings.warn(msg, RuntimeWarning)\n",
      "/Users/usmphysics/anaconda/lib/python3.5/site-packages/ipykernel/__main__.py:199: RuntimeWarning: invalid value encountered in sqrt\n",
      "/Users/usmphysics/anaconda/lib/python3.5/site-packages/ipykernel/__main__.py:200: RuntimeWarning: invalid value encountered in sqrt\n"
>>>>>>> origin/cleaningMethods
     ]
    }
   ],
   "source": [
    "%matplotlib\n",
    "#tester cell\n",
    "#myRayList = RayGenerator(2,-1,30,\"point_source\",startAngle=60*pi/180,stopAngle=120*pi/180)\n",
    "#myRayList = RayGenerator(5,-1,30,\"point_source\", startAngle=60*pi/180,stopAngle=120*pi/180)\n",
    "#myRayList = RayGenerator.point_source(5,6,30,60*pi/180, 120*pi/180)\n",
    "#myRayList = RayGenerator.point_source(5,6, 1, 109.5*pi/180, 119.5*pi/180)\n",
    "#myRayList = RayGenerator.converging_source(3,0,7,0,300, 65*pi/180, 115*pi/180)\n",
<<<<<<< HEAD
    "#myRayList = RayGenerator.beam_source(3.485, 0, 3.49, 0, 1)\n",
    "#Ray.rayCount = 0\n",
    "myRayList = RayGenerator.beam_source(3,0,7,0,10)\n",
    "#myRayList = RayGenerator.beam_source(3.675,0,3.678,0, 1)\n",
    "#myRayList = RayGenerator.beam_source(2,0,8,0,100)\n",
    "#myLens = lens.predefined(\"biconcave\", nFunction=lambda x : 1.6, xOffSet=0,yOffSet=0)\n",
    "myLens = lens.gaussianOptics(r1=5, r2=-5,diameter=0, thickness=2,xOffSet=0,yOffSet=0,nFunction=lambda x: 1.5)\n",
=======
    "myRayList = RayGenerator.beam_source(2,0,7.8,0, 99)\n",
    "#myLens = lens.predefined(\"biconvex\", nFunction=lambda x : 2, xOffSet=0,yOffSet=0)\n",
    "myLens = lens.gaussianOptics(r1=-5, r2=5,diameter=6, thickness=1.5,xOffSet=0,yOffSet=0,nFunction=lambda x: 1.5)\n",
>>>>>>> origin/cleaningMethods
    "#myLens = lens.gaussianOptics(r1=0, r2=0, diameter = 2, thickness = 2, xOffSet = 3, yOffSet = 0, nFunction=lambda x:1.5)\n",
    "theDriver = driver(lambda x:1,myRayList.theRayList,myLens)\n",
    "theDriver.rayFunc()\n",
    "#for ray in theDriver.listOfRays:\n",
    "#    print(ray.locationHistory)\n",
    "fig = plt.figure()\n",
    "theDriver.plotter(fig)\n",
    "plt.ylim(-2,8)\n",
    "plt.xlim(0,10)\n",
    "#plt.axis('equal')\n",
    "#plt.legend()\n",
    "plt.tight_layout()\n",
    "plt.show()\n",
    "#add refinement for close to theta critical\n"
   ]
  },
  {
   "cell_type": "code",
<<<<<<< HEAD
   "execution_count": 79,
   "metadata": {
    "collapsed": false
   },
   "outputs": [
    {
     "name": "stderr",
     "output_type": "stream",
     "text": [
      "C:\\Anaconda2\\envs\\python3\\lib\\site-packages\\ipykernel\\__main__.py:21: RuntimeWarning: invalid value encountered in arcsin\n",
      "C:\\Anaconda2\\envs\\python3\\lib\\site-packages\\scipy\\optimize\\minpack.py:161: RuntimeWarning: The iteration is not making good progress, as measured by the \n",
      "  improvement from the last ten iterations.\n",
      "  warnings.warn(msg, RuntimeWarning)\n",
      "C:\\Anaconda2\\envs\\python3\\lib\\site-packages\\ipykernel\\__main__.py:185: RuntimeWarning: invalid value encountered in sqrt\n"
     ]
    }
   ],
=======
   "execution_count": 8,
   "metadata": {},
   "outputs": [],
>>>>>>> origin/cleaningMethods
   "source": [
    "myRayList = RayGenerator.beam_source(3,0,7,0,10)\n",
    "myLens = lens.gaussianOptics(r1=0, r2=-5,diameter=0, thickness=0.5,xOffSet=0,yOffSet=-4.5,nFunction=lambda x: 1.5)\n",
    "theDriver = driver(lambda x:1,myRayList.theRayList,myLens)\n",
    "theDriver.rayFunc()\n",
    "fig = plt.figure()\n",
    "theDriver.plotter(fig)\n",
    "plt.ylim(0,16)\n",
    "plt.xlim(1,9)\n",
    "plt.tight_layout()\n",
    "plt.show()"
   ]
  },
  {
   "cell_type": "code",
<<<<<<< HEAD
   "execution_count": 92,
   "metadata": {
    "collapsed": false
   },
=======
   "execution_count": 9,
   "metadata": {},
>>>>>>> origin/cleaningMethods
   "outputs": [
    {
     "name": "stdout",
     "output_type": "stream",
     "text": [
<<<<<<< HEAD
      "[(3.0, 1.4174243050441602)]\n"
=======
      "[(2.0, 0.0)]\n",
      "[(2.6666666666666665, 0.0)]\n",
      "[(3.333333333333333, 0.0), (3.333333333333333, 3.4944382578492941), (3, 5.0963219670946138), (3.118063916005954, 5.66369595819355)]\n",
      "[(4.0, 0.0), (4.0, 3.8284271247461903), (3.8440216343576816, 5.2316586160361442)]\n",
      "[(4.6666666666666661, 0.0), (4.6666666666666661, 3.9814239699997196), (4.632316574564733, 5.022617105802448)]\n",
      "[(5.333333333333333, 0.0), (5.333333333333333, 3.9814239699997196), (5.3765325540133624, 5.0237232595458847)]\n",
      "[(6.0, 0.0), (6.0, 3.8284271247461903), (6.1660422035026938, 5.23588249532503)]\n",
      "[(6.6666666666666661, 0.0), (6.666666666666667, 3.4944382578492941), (7, 5.0402474551655416), (6.8679723007219655, 5.6525163506990115)]\n",
      "[(7.333333333333333, 0.0)]\n",
      "[(8.0, 0.0)]\n"
>>>>>>> origin/cleaningMethods
     ]
    }
   ],
   "source": [
    "for ray in myRayList.theRayList:\n",
    "    if(ray.identity == 1):\n",
    "        print(ray.locationHistory)\n",
    "    #print(ray.locationHistory)\n",
    "    #print(ray.angleHistory)\n",
    "    #print(ray.unitVectorHistory)"
   ]
  },
  {
   "cell_type": "code",
<<<<<<< HEAD
   "execution_count": 710,
=======
   "execution_count": 10,
>>>>>>> origin/cleaningMethods
   "metadata": {
    "collapsed": false
   },
   "outputs": [],
   "source": [
    "#print(ray.unitVectorHistory)"
   ]
  },
  {
   "cell_type": "code",
<<<<<<< HEAD
   "execution_count": null,
   "metadata": {
    "collapsed": false
   },
   "outputs": [],
   "source": []
=======
   "execution_count": 11,
   "metadata": {},
   "outputs": [
    {
     "data": {
      "text/plain": [
       "[-1, -2, -3]"
      ]
     },
     "execution_count": 11,
     "metadata": {},
     "output_type": "execute_result"
    }
   ],
   "source": [
    "b"
   ]
>>>>>>> origin/cleaningMethods
  },
  {
   "cell_type": "code",
   "execution_count": null,
   "metadata": {},
   "outputs": [],
   "source": []
  },
  {
   "cell_type": "code",
   "execution_count": null,
   "metadata": {},
   "outputs": [],
   "source": []
  },
  {
   "cell_type": "code",
<<<<<<< HEAD
   "execution_count": 649,
   "metadata": {
    "collapsed": false
   },
   "outputs": [
    {
     "name": "stdout",
     "output_type": "stream",
     "text": [
      "[1, 2, 3, 4, 5, 6]\n"
     ]
    }
   ],
   "source": [
    "a = [1,2,3]\n",
    "b = [4,5,6]\n",
    "a+=b\n",
    "print(a)"
   ]
=======
   "execution_count": null,
   "metadata": {},
   "outputs": [],
   "source": []
>>>>>>> origin/cleaningMethods
  },
  {
   "cell_type": "code",
   "execution_count": 12,
   "metadata": {},
   "outputs": [],
   "source": [
    "#for i in b:\n",
    "#    print(i.angleHistory)"
   ]
  },
  {
   "cell_type": "code",
   "execution_count": 13,
   "metadata": {
    "collapsed": true
   },
   "outputs": [],
   "source": [
    "myList = [1,2,3]"
   ]
  },
  {
   "cell_type": "code",
   "execution_count": 14,
   "metadata": {
    "collapsed": true
   },
   "outputs": [],
   "source": [
    "g,h,j = myList"
   ]
  },
  {
   "cell_type": "code",
   "execution_count": 15,
   "metadata": {},
   "outputs": [
    {
     "name": "stdout",
     "output_type": "stream",
     "text": [
      "1\n"
     ]
    }
   ],
   "source": [
    "print(g)"
   ]
  },
  {
   "cell_type": "code",
   "execution_count": 16,
   "metadata": {},
   "outputs": [
    {
     "data": {
      "text/plain": [
       "-1.1102230246251565e-14"
      ]
     },
     "execution_count": 16,
     "metadata": {},
     "output_type": "execute_result"
    }
   ],
   "source": [
    "f = lambda x : np.sin(x) - x-1\n",
    "b = opt.root(f, 1)\n",
    "b.fun[0]"
   ]
  },
  {
   "cell_type": "code",
   "execution_count": 17,
   "metadata": {},
   "outputs": [],
   "source": [
    "a = [[1,2],[3,4,5]]\n",
    "b,c = a"
   ]
  },
  {
   "cell_type": "code",
   "execution_count": 18,
   "metadata": {},
   "outputs": [
    {
     "name": "stdout",
     "output_type": "stream",
     "text": [
      "[1, 2] [3, 4, 5]\n"
     ]
    }
   ],
   "source": [
    "print(b,c)"
   ]
  },
  {
   "cell_type": "code",
<<<<<<< HEAD
   "execution_count": 39,
   "metadata": {
    "collapsed": false
   },
   "outputs": [
    {
     "name": "stdout",
     "output_type": "stream",
     "text": [
      "5.0 2.0\n"
     ]
    }
   ],
   "source": [
    "a = 5 + 2j\n",
    "b = a.real\n",
    "c = a.imag\n",
    "print(b,c)"
   ]
  },
  {
   "cell_type": "code",
   "execution_count": 33,
   "metadata": {
    "collapsed": false
   },
=======
   "execution_count": 19,
   "metadata": {},
>>>>>>> origin/cleaningMethods
   "outputs": [
    {
     "name": "stdout",
     "output_type": "stream",
     "text": [
      "(2.0000000000000004+5j)\n"
     ]
    }
   ],
   "source": [
    "print(a)"
   ]
  },
  {
   "cell_type": "code",
   "execution_count": null,
   "metadata": {
    "collapsed": true
   },
   "outputs": [],
   "source": []
  }
 ],
 "metadata": {
  "kernelspec": {
   "display_name": "Python [default]",
   "language": "python",
   "name": "python3"
  },
  "language_info": {
   "codemirror_mode": {
    "name": "ipython",
    "version": 3
   },
   "file_extension": ".py",
   "mimetype": "text/x-python",
   "name": "python",
   "nbconvert_exporter": "python",
   "pygments_lexer": "ipython3",
   "version": "3.5.3"
  }
 },
 "nbformat": 4,
 "nbformat_minor": 1
}
