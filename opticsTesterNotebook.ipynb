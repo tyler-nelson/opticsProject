{
 "cells": [
  {
   "cell_type": "code",
   "execution_count": 9,
   "metadata": {
    "collapsed": true
   },
   "outputs": [],
   "source": [
    "# import statements for rest of notebook\n",
    "import matplotlib as mpl\n",
    "import matplotlib.pyplot as plt\n",
    "#plt.rc('text', usetex=True)\n",
    "plt.rc('font', family='serif')\n",
    "mpl.rcParams.update({'font.size': 20})\n",
    "mpl.rcParams['figure.figsize'] = 8,8\n",
    "import math as m   # importing math library outside function definition saves time \n",
    "import numpy as np\n",
    "\n",
    "from IPython.display import Image\n",
    "import scipy as sci\n",
    "from scipy.misc import derivative\n",
    "import scipy.optimize as opt\n",
    "import sympy as sym\n",
    "from numpy import pi\n",
    "#might opt for from numpy import pi to save myself the trouble"
   ]
  },
  {
   "cell_type": "code",
   "execution_count": 57,
   "metadata": {
    "collapsed": true
   },
   "outputs": [],
   "source": [
    "#this needs to be cleaned an the ray-material interaction must be included \n",
    "\n",
    "class Ray:\n",
    "    def __init__(self, x, y, angle, wavelength=0):\n",
    "        \n",
    "        #vector quantities\n",
    "        self.sourceLocation = (x,y)\n",
    "        self.angle = angle\n",
    "        self.unitVector = [np.cos(angle), np.sin(angle)]\n",
    "        \n",
    "        #line quantities\n",
    "        self.slope = (self.unitVector[1]/self.unitVector[0])\n",
    "        self.yIntercept = y - x*self.slope # y = mx + b --> b = y - mx\n",
    "        self.xIntercept = - self.yIntercept/self.slope # x = -b/m\n",
    "        \n",
    "        #plot quantities\n",
    "        self.locationHistory = [self.sourceLocation] # keep track of the prevous interface points\n",
    "        self.angleHistory = [angle*180/np.pi]\n",
    "        self.slopeFromRight = 0\n",
    "        if(self.slope < 0):\n",
    "            self.slopeFromRight = 1\n",
    "        \n",
    "        #light quantities\n",
    "        self.wavelength = wavelength\n",
    "        \n",
    "        #program quantities\n",
    "        self.objIndex = -1\n",
    "        self.identity = 42 #this can be set up in the ray generator\n",
    "        \n",
    "        \n",
    "    def update_location_history(self, x, y, angle, objIndex):\n",
    "        \n",
    "        #update vector quantities:\n",
    "        self.sourceLocation = (x,y)\n",
    "        self.angle = angle\n",
    "        self.unitVector = [np.cos(angle),np.sin(angle)]\n",
    "        \n",
    "        #update line quantities\n",
    "        self.slope = (self.unitVector[1] / self.unitVector[0])\n",
    "        self.yIntercept = y - x*self.slope # y = mx + b --> b = y - mx\n",
    "        self.xIntercept = - self.yIntercept/self.slope # x = -b/m\n",
    "        \n",
    "        #update plot quantities\n",
    "        self.locationHistory.append((x,y))\n",
    "        self.angleHistory.append(angle*180/np.pi)\n",
    "        \n",
    "        #update program quantity\n",
    "        self.objIndex = objIndex\n",
    "        \n",
    "    def plot_ray(self): #this is currently unused\n",
    "        a = zip(*self.locationHistory)\n",
    "        xPoints,yPoints = a #this should be equivalent to xPoints, yPoints = a[0], a[1]\n",
    "        plt.plot(xPoints, yPoints, color='blue')#this probably should reference a figure object so we know where we are plotting\n",
    "        \n",
    "    def printString(self):\n",
    "        return \"{0}\\n{1}\\n{2}\\n\".format(self.slope, self.xIntercept,np.asarray(self.angleHistory)*180/np.pi)"
   ]
  },
  {
   "cell_type": "code",
   "execution_count": 58,
   "metadata": {
    "collapsed": false
   },
   "outputs": [],
   "source": [
    "class RayGenerator:\n",
    "    def __init__(self, x, y, numberOfRays, typeOf=\"\", x2=0, y2=0, startAngle=0, stopAngle=2*np.pi,startLambda=1, endLambda=1,customRayList=[]):\n",
    "        self.theRayList = []\n",
    "        if(typeOf != \"\"):\n",
    "            if(typeOf == \"point_source\"):\n",
    "                if startAngle == 0 and stopAngle == 2*np.pi:\n",
    "                    theAngleList = np.linspace(startAngle, stopAngle, numberOfRays+1)\n",
    "                else:\n",
    "                    theAngleList = np.linspace(startAngle, stopAngle, numberOfRays)\n",
    "                for i, angle in enumerate(theAngleList):#still have to put in the color code\n",
    "                    self.theRayList.append(Ray(x,y,angle, 0))#300+i*(400/numberOfRays)*10**-9))#color code\n",
    "            elif(typeOf == \"beam_source\"):\n",
    "                if (x1-x0) != 0 or (y1-y0) != 0:\n",
    "                    rayAngle = np.arctan2((x1-x0),-(y1-y0))\n",
    "                else:\n",
    "                    raise(Exception(\"beam width must be non-zero\"))\n",
    "                xList = np.linspace(x0, x1, numberOfRays)\n",
    "                yList = np.linspace(y0, y1, numberOfRays)\n",
    "                pointList = list(zip(xList, yList))\n",
    "                theRayList = []\n",
    "                for i, point in enumerate(pointList):\n",
    "                    #for j in range(100):\n",
    "                    #ray = Ray(point[0],point[1],rayAngle,0)# (400+j*(980/100))*10**-9)\n",
    "                    self.theRayList.append(Ray(point[0],point[1],rayAngle,0))\n",
    "                    #flesh this out more so that lambda is evenly spaced between the start and stop\n",
    "            else:\n",
    "                raise(Exception(\"Unknown Source Type, please enter one of the following\\nbeam_source or point_source\"))\n",
    "        else:\n",
    "            self.theRayList=customRayList\n",
    "        #I don't know if this pass is required but you can put it in for the ability to customize your own ray\n",
    "        #distribution\n",
    "\n"
   ]
  },
  {
   "cell_type": "code",
   "execution_count": 132,
   "metadata": {
    "collapsed": false
   },
   "outputs": [],
   "source": [
    "#change the vertical line handling so that the second list are the value of the bounding functions\n",
    "#this amounts to a scaffolding in which each case though be tested in case errors were made\n",
    "\n",
    "class lens:\n",
    "    def __init__(self,surfaceList=[],n=lambda x : 1.5):\n",
    "        \n",
    "        self.refractiveIndex = n\n",
    "        self.surfaceList = surfaceList\n",
    "    \n",
    "    \n",
    "    \n",
    "    #note these class methods must take on an constructor properties we need such as material properties\n",
    "    #\n",
    "    # to do:\n",
    "    # put in the material properties portion\n",
    "    #\n",
    "    @classmethod\n",
    "    def predefined(cls, name, nFunction=lambda x : 1.5):#I should probably include the r1, r2, height, and width values in these examples\n",
    "        '''\n",
    "        Here is a series of predefined surfaces that could be used as examples of the behavior of each lens type\n",
    "        They also provide concrete models of what is generalized in the gaussian optics section below so that \n",
    "        someone wishing to use the code could troubleshoot via mimicing the structure shown below\n",
    "        '''\n",
    "        if(name == \"biconvex\"):\n",
    "            f1 = lambda x : -(-(x-5)**2 + 9)**(1/2) + 5\n",
    "            f2 = lambda x : (-(x-5)**2 + 9)**(1/2) + 1\n",
    "            x0 = opt.fsolve(lambda x: f1(x)-f2(x), 2, xtol=1e-10, maxfev=200)\n",
    "            x1 = opt.fsolve(lambda x: f1(x)-f2(x), 7, xtol=1e-10, maxfev=200)\n",
    "            return cls(surfaceList = [[[x0[0],x1[0]],[f1,f2]]],n=nFunction)\n",
    "\n",
    "        elif(name == \"biconcave\"):\n",
    "            mySurfaceList = []\n",
    "            f1 = lambda x : -(5/4 - x/4)**2 + 5\n",
    "            f2 = lambda x : (x/4 - 5/4)**2 + 6\n",
    "            mySurfaceList.append([[3],[f1(3),f2(3)]])\n",
    "            mySurfaceList.append([[3,7],[f1,f2]])\n",
    "            mySurfaceList.append([[7],[f1(3),f2(3)]])\n",
    "            return cls(surfaceList=mySurfaceList,n=nFunction)\n",
    "            \n",
    "\n",
    "        elif(name == \"planar convex\"):\n",
    "            f1 = lambda x : -(-(x-5)**2 + 9)**(1/2) + 5\n",
    "            f2 = lambda x : 3\n",
    "            x0 = opt.fsolve(lambda x: f1(x)-f2(x), 2, xtol=1e-10, maxfev=200)\n",
    "            x1 = opt.fsolve(lambda x: f1(x)-f2(x), 7, xtol=1e-10, maxfev=200)\n",
    "            return cls(surfaceList = [[[x0[0],x1[0]],[f1,f2]]],n=nFunction)\n",
    "\n",
    "        elif(name == \"planar concave\"):\n",
    "            mySurfaceList = []\n",
    "            f1 = lambda x : -(5/4 - x/4)**2 + 5\n",
    "            f2 = lambda x : 6\n",
    "            mySurfaceList.append([[3],[f1(3),f2(3)]])\n",
    "            mySurfaceList.append([[3,7],[f1,f2]])\n",
    "            mySurfaceList.append([[7],[f1(7),f2(7)]])\n",
    "            return cls(surfaceList=mySurfaceList, n=nFunction)\n",
    "\n",
    "        elif(name == \"meniscus convex\"):\n",
    "            f1 = lambda x: -(-(x-5)**2 + 16)**(1/2) + 6\n",
    "            f2 = lambda x : -(-(x-5)**2 + 36)**(1/2) + 9\n",
    "            x0 = opt.fsolve(lambda x: f1(x)-f2(x), 2, xtol=1e-10, maxfev=200)\n",
    "            x1 = opt.fsolve(lambda x: f1(x)-f2(x), 8, xtol=1e-10, maxfev=200)\n",
    "            return cls(surfaceList = [[[x0[0],x1[0]],[f1,f2]]],n=nFunction)\n",
    "\n",
    "        elif(name == \"meniscus concave\"):#I could save using the append opperation and memory initialization by just expliciting spelling out what I wanted my list to be\n",
    "            mySurfaceList = []\n",
    "            f1 = lambda x : -(-(x-5)**2 + 9)**(1/2) + 4.5\n",
    "            f2 = lambda x : -(-(x-5)**2 + 49)**(1/2) +8\n",
    "            mySurfaceList.append([[3],[f1(3),f2(3)]])\n",
    "            mySurfaceList.append([[3,7],[f1,f2]])\n",
    "            mySurfaceList.append([[7],[f1(7),f2(7)]])\n",
    "            return cls(surfaceList = mySurfaceList,n=nFunction)\n",
    "        else:\n",
    "            raise(Exception(\"Unknown lens type, please enter one of the following:\\nbiconvex, biconcave, planar convex, planar concave, meniscus convex, meniscus concave\"))\n",
    "    \n",
    "    @classmethod\n",
    "    def gaussianOptics(cls,r1=0,r2=0,width=0,height=0,nFunction=lambda x:1.5):\n",
    "        '''\n",
    "        The basic stucture of this function is to deal with the various gaussian optics inputs we could recieve and handle them appropriately\n",
    "        After some error handling most cases take on the following characteristic structure:\n",
    "        \n",
    "        0. for concave: ensure enough information is provided\n",
    "        1. determine rmax for plotting and doing math later\n",
    "        2. define the two surface functions\n",
    "        3. for convex: determine where the surfaces intersect\n",
    "        4. use the helper method to concisely construct our surface data \n",
    "    \n",
    "        '''\n",
    "        def abrvFunc(r1,r2,f1,f2,height,x0=0,x1=0): #this is a helper function to make the code more readable(or less eye watering if you prefer)\n",
    "            if(x0 != 0 or x1 != 0):\n",
    "                if(x1[0]-x0[0] <= height):#we can either raise an exception or just use the maximal diameter\n",
    "                    raise(Exception(\"this height exceeds the limitations imposed by the specified diamter\"))\n",
    "            xmin = rmax - height/2\n",
    "            xmax = rmax + height/2\n",
    "            mySurfaceList = [[[xmin],[f1(xmin),f2(xmax)]]]\n",
    "            mySurfaceList.append([[xmin,xmax],[f1,f2]])\n",
    "            mySurfaceList.append([[xmax],[f1(xmax),f2(xmax)]])\n",
    "            return mySurfaceList\n",
    "        \n",
    "        if(((r1 or r2 or height) and width) or ((r1 or r2) and height) or (r1 and r2)):#this should say that at least two of the following have to be given\n",
    "            #deal with negative width\n",
    "            #widths should change as the relative orientation of the radii change\n",
    "            if(width < 0 or height < 0):\n",
    "                raise(Exception(\"width and height are constrained to be greater than or equal to zero\"))\n",
    "            elif(width == 0 and height == 0 ):\n",
    "                raise(Exception(\"at minimum a width or height must be specified for a lens along with r1 or r2\"))\n",
    "            elif(r1 > 0 and r2 > 0 and r1 < r2):#meniscus convex\n",
    "                if(not width):\n",
    "                    width = abs(r1-(r1**2 -height**2/4)**(1/2) - r2 + (r2**2-height**2/4)**(1/2))\n",
    "                rmax = r2\n",
    "                f1 = lambda x : (-(x-rmax)**2 + r1**2)**(1/2) + rmax+1\n",
    "                f2 = lambda x : (-(x-rmax)**2 + r2**2)**(1/2) + rmax+1 - width + r2 - r1\n",
    "                x0 = opt.fsolve(lambda x: f1(x)-f2(x), 0, xtol=1e-10, maxfev=200)\n",
    "                x1 = opt.fsolve(lambda x: f1(x)-f2(x), 2*rmax, xtol=1e-10, maxfev=200)\n",
    "                if(height):\n",
    "                    return cls(surfaceList=abrvFunc(r1,r2,f1,f2,height,x0,x1),n=nFunction)\n",
    "                return cls(surfaceList = [[x0[0],x1[0]],[f1,f2]],n=nFunction)\n",
    "                \n",
    "                    \n",
    "            elif(r1 > 0 and r2 == 0):#plano-convex case 1\n",
    "                if(not width):\n",
    "                    width = abs(r1-(r1**2-height**2/4)**(1/2))\n",
    "                rmax = r1\n",
    "                f1 = lambda x : (-(x-rmax)**2 + r1**2)**(1/2) + rmax+1\n",
    "                f2 = lambda x : rmax+1+width\n",
    "                x0 = opt.fsolve(lambda x: f1(x)-f2(x), 0, xtol=1e-10, maxfev=200)\n",
    "                x1 = opt.fsolve(lambda x: f1(x)-f2(x), 2*rmax, xtol=1e-10, maxfev=200)\n",
    "                if(height):    \n",
    "                    return cls(surfaceList=abrvFunc(r1,r2,f1,f2,height,x0,x1),n=nFunction)\n",
    "                return cls(surfaceList = [[x0[0],x1[0]],[f1,f2]],n=nFunction)\n",
    "\n",
    "            elif(r1 > 0 and r2 < 0):#biconvex\n",
    "                r2 = -r2\n",
    "                if(not width):\n",
    "                    width = abs(r1-(r1**2-width**2/4)**(1/2)) + abs(r2-(r2**2-width**2/4)**(1/2))\n",
    "                rmax = max(r1, r2)\n",
    "                f1 = lambda x : -(-(x-rmax)**2 + r1**2)**(1/2) + rmax+1\n",
    "                f2 = lambda x : (-(x-rmax)**2 + r2**2)**(1/2) + rmax+1 + width-r1-r2\n",
    "                x0 = opt.fsolve(lambda x: f1(x)-f2(x), 0, xtol=1e-10, maxfev=200)\n",
    "                x1 = opt.fsolve(lambda x: f1(x)-f2(x), 2*rmax, xtol=1e-10, maxfev=200)\n",
    "                if(height):\n",
    "                    return cls(surfaceList=abrvFunc(r1,r2,f1,f2,height,x0,x1),n=nFunction)\n",
    "                return cls(surfaceList = [[x0[0],x1[0]],[f1,f2]],n=nFunction)\n",
    "\n",
    "            elif(r1 == 0 and r2 > 0):#plano-convex case 2\n",
    "                if(not width):\n",
    "                    width = abs(r2-(r2**2-height**2/4)**(1/2))\n",
    "                rmax = r2\n",
    "                f1 = lambda x : (-(x-rmax)**2 + r2**2)**(1/2) + width+1\n",
    "                f2 = lambda x : 1\n",
    "                x0 = opt.fsolve(lambda x: f1(x)-f2(x), 0, xtol=1e-10, maxfev=200)\n",
    "                x1 = opt.fsolve(lambda x: f1(x)-f2(x), 2*rmax, xtol=1e-10, maxfev=200)\n",
    "                if(height):\n",
    "                    return cls(surfaceList=abrvFunc(r1,r2,f1,f2,height,x0,x1),n=nFunction)\n",
    "                return cls(surfaceList = [[x0[0],x1[0]],[f1,f2]],n=nFunction)\n",
    "\n",
    "            elif(r1 == 0 and r2 == 0):#rectangle\n",
    "                mySurfaceList = [[[1],[1,height+1]]]\n",
    "                mySurfaceList.append([[1,width+1],[lambda x : 1, lambda x : height+1]])\n",
    "                mySurfaceList.append([[width+1],[1,height+1]])\n",
    "                return cls(surfaceList=mySurfaceList,n=nFunction)\n",
    "\n",
    "            elif(r1 == 0 and r2 < 0):#plano-concave case 1\n",
    "                if(height == 0 or width == 0):\n",
    "                    raise(Exception(\"Insufficient information provided for concave class object\"))\n",
    "                r2 = -r2\n",
    "                rmax = r2\n",
    "                f1 = lambda x : 1\n",
    "                f2 = lambda x : -(-(x-rmax)**2 + r2**2)**(1/2) + 1+rmax+width\n",
    "                return cls(surfaceList=abrvFunc(r1,r2,f1,f2,height),n=nFunction) \n",
    "            \n",
    "            elif(r1 < 0 and r2 > 0):#biconcave\n",
    "                if(height == 0 or width == 0):\n",
    "                    raise(Exception(\"Insufficient information provided for concave class object\"))\n",
    "                r1 = -r1\n",
    "                rmax = max(r1,r2)\n",
    "                f1 = lambda x : (-(x-rmax)**2 + r1**2)**(1/2) + rmax+1\n",
    "                f2 = lambda x : -(-(x-rmax)**2 + r2**2)**(1/2) + rmax+1 + width +r1+r2\n",
    "                return cls(surfaceList=abrvFunc(r1,r2,f1,f2,height),n=nFunction)\n",
    "\n",
    "            elif(r1 < 0 and r2 == 0):#plano-concave case 2\n",
    "                if(height == 0 or width == 0):\n",
    "                    raise(Exception(\"Insufficient information provided for concave class object\"))\n",
    "                r1 = -r1\n",
    "                rmax = r1\n",
    "                f1 = lambda x : (-(x-rmax)**2 + r1**2)**(1/2) + 1\n",
    "                f2 = lambda x : 1 + r1 + width\n",
    "                return cls(surfaceList=abrvFunc(r1,r2,f1,f2,height),n=nFunction)\n",
    "            \n",
    "            elif(r1 > 0 and r2 > 0):#meniscus concave\n",
    "                if(height == 0 or width == 0):\n",
    "                    raise(Exception(\"Insufficient information provided for concave class object\"))\n",
    "                rmin = min(r1,r2)\n",
    "                rmax = max(r1,r2)\n",
    "                f1 = lambda x : (-(x-rmax)**2 + r1**2)**(1/2) + rmax+1\n",
    "                f2 = lambda x : (-(x-rmax)**2 + r2**2)**(1/2) + rmax+1 + width + r2 - r1\n",
    "                if(height < 2*rmin):#reasonable height\n",
    "                    return cls(surfaceList=abrvFunc(r1,r2,f1,f2,height),n=nFunction)\n",
    "                else:#unreasonable height\n",
    "                    raise(Exception(\"This is an unreasonable height for a meniscus concave lens\"))\n",
    "                    #self.surfaceList.append([rmax-rmin],[])\n",
    "                    #self.surfaceList.append([[rmax-rmin,rmax+rmin],[f1,f2]])#this is the we'll fix it approach\n",
    "                    #self.surfaceList.append([[rmax+rmin],[]])\n",
    "        else:\n",
    "            raise(Exception(\"Not enough information supplied or height and width = 0 which is impossible\"))#probably should print inputs\n",
    "        \n",
    "    #unsure how much burden I want to put on the user\n",
    "    #we could take a dictionary of inputs which might be more readable but that might also make the whole process more complicated\n",
    "    #insofar as translating that dictionary set up into our list structure\n",
    "    @classmethod\n",
    "    def custom(cls,mySurfaceList,nFunction=lambda x:1.5):\n",
    "        return cls(surfaceList=mySurfaceList,n=nFunction)\n",
    "    #there should probably some rhobust error checking for dealing with the defined surfaces\n",
    "    \n",
    "    def sellmeier(self,wavelength):\n",
    "        B1,B2,B3,C1,C2,C3 = self.sellmeier\n",
    "        if(B1 and B2 and B3 and C1 and C2 and C3):\n",
    "            wavelength *= 1e6\n",
    "            return lambda x : (1 + B1*wavelength**2/(wavelength**2 - C1) + B2*wavelength**2/(wavelength**2 - C2) + B3*wavelength**2/(wavelength**2 - C3) )**(1/2)\n",
    "        return self.refractiveIndex"
   ]
  },
  {
   "cell_type": "code",
   "execution_count": 133,
   "metadata": {
    "collapsed": true
   },
   "outputs": [],
   "source": [
    "#[([xStart,xStop],[func1, func2]),...]"
   ]
  },
  {
   "cell_type": "code",
   "execution_count": 146,
   "metadata": {
    "collapsed": true
   },
   "outputs": [],
   "source": [
    "class driver:\n",
    "    def __init__(self,n,listOfRays,lens):\n",
    "        self.nMedium = n\n",
    "        self.listOfRays = listOfRays\n",
    "        self.lens = lens\n",
    "        \n",
    "    def rayFunc(self):\n",
    "        \n",
    "        def normalVectorFunc(function, value): # Value is the x value where the given ray intersects the lens surface\n",
    "            fprime = derivative(function, value, dx=1e-13, order=21)\n",
    "            return [-fprime/(1+fprime**2)**(0.5),1/(1+fprime**2)**(0.5)]\n",
    "        \n",
    "        def thetaCritical(n1, n2):#these should be effective indices in the case where they are functions\n",
    "            return np.arcsin(n2/n1)\n",
    "        \n",
    "        #expected inputs for line: [slope, x intercept], surface is a function, value is a reasonable estimate for where the zero occurs\n",
    "        def rayIntersectSurface(line, surface, value): \n",
    "            return opt.fsolve(lambda x: surface(x)-x*line[0] + line[0]*line[1], value, xtol=1e-9, maxfev=200)#f(x) - m(x-x0) = 0\n",
    "        \n",
    "        \n",
    "        passes = 0\n",
    "        listOfRays = self.listOfRays\n",
    "        listOfSurfaces = self.lens.surfaceList \n",
    "        #print()\n",
    "        while(passes < 3):\n",
    "            for i in range(len(listOfRays)):#idea: why keep track of all of the possible points of intersection when we only care about the min?\n",
    "                ray = listOfRays[i]\n",
    "                minDistance = 1e10\n",
    "                minDistSurface = -1\n",
    "                xMin, yMin = -1,-1\n",
    "                x0,y0 = ray.sourceLocation\n",
    "                for s in range(len(listOfSurfaces)):\n",
    "                    domain, surfaces = listOfSurfaces[s]\n",
    "                    #print(domain,surfaces)\n",
    "                    #should add the shifted case, where there are two line segments \n",
    "                    if(len(domain) == 1):#this is a vertical line \n",
    "                        pointOfIntersection = ray.slope*domain[0] + ray.yIntercept\n",
    "                        if(pointOfIntersection >= surfaces[0] and pointOfIntersection <= surfaces[1]):\n",
    "                            #calculate the distance traveled\n",
    "                            distance = ((domain[0]-x0)**2 + (pointOfIntersection-y0)**2)**(1/2)\n",
    "                            if(distance < minDistance and distance > 0.001):\n",
    "                                minDistance = distance\n",
    "                                xMin, yMin = domain, pointOfIntersection\n",
    "                                minDistSurface = [domain[0],surfaces[:2]] #I use this as the label to differentiate between the vertical line case and the rest\n",
    "                        elif(len(surfaces) == 4):\n",
    "                            if(pointOfIntersection >= surfaces[2] and pointOfIntersection <= surfaces[3]):\n",
    "                                distance = ((domain[0]-x0)**2 + (pointOfIntersection-y0)**2)**(1/2)\n",
    "                                if(distance < minDistance):\n",
    "                                    minDistance = distance\n",
    "                                    xMin, yMin = domain, pointOfIntersection\n",
    "                                    minDistSurface = [domain[0],surfaces[2:4]]\n",
    "                    #should probably include error checking to ensure that the length of any of these domain lists is either 1 or 2 \n",
    "                    else:#we're not working with a vertical line\n",
    "                        #given a domain (a,b), my strategy is to use fsolve with an intial guess of (a+b)/2\n",
    "                        #unsure if this is sufficiently robust\n",
    "                        initial_guess = (domain[0]+domain[1])/2\n",
    "                        #\n",
    "                        #ATTENTION:\n",
    "                        #this adjustment in the lower limit of the range is a quick fix and should be addressed more throughly\n",
    "                        #\n",
    "                        #\n",
    "                        for i in range(passes,len(surfaces)):#we have to loop over all the surfaces defined on this domain\n",
    "                            surface_i = surfaces[i]\n",
    "                            listOfPointsOfIntersection = rayIntersectSurface([ray.slope, ray.xIntercept], surface_i, initial_guess)\n",
    "                            #I think the best point is going to be the first one on the list, this may be wrong\n",
    "                            a, b = domain\n",
    "                            pointOfIntersection = listOfPointsOfIntersection[0]\n",
    "                            if(pointOfIntersection > a and pointOfIntersection < b):\n",
    "                                #we've got a valid intersection\n",
    "                                y1 = surface_i(pointOfIntersection)\n",
    "                                distance = ((pointOfIntersection-x0)**2 + (y1-y0)**2)**(1/2)\n",
    "                                if(distance < minDistance):#put in a min distance, this might fix the ray not moving problem\n",
    "                                    minDistance = distance\n",
    "                                    xMin, yMin = pointOfIntersection, y1\n",
    "                                    minDistSurface = [surface_i]\n",
    "                                    \n",
    "                #we have now found the next point of intersection or exhausted all possibilities so we can move on to the rest of this\n",
    "                if(minDistSurface == -1):#no points of intersection, may as well move on to the next ray\n",
    "                    continue\n",
    "                #before we proceed we again need to have the special case handled for vertical lines :(\n",
    "                if(len(minDistSurface) == 2): #the special case\n",
    "                    #which way does our normal vector point?\n",
    "                    #unpack our list\n",
    "                    #print(\"I'm reached\")\n",
    "                    x1, yList = minDistSurface\n",
    "                    if(x0 < x1):\n",
    "                        normalVector = [1, 0]\n",
    "                    else:\n",
    "                        normalVector = [-1,0]\n",
    "                    #this probably needs to consider the vertical line in the interior of the lens\n",
    "                else:\n",
    "                    normalVector = normalVectorFunc(minDistSurface[0],xMin)\n",
    "                \n",
    "                theta1 = np.arccos(np.dot(ray.unitVector, normalVector))\n",
    "                #we need to determine whether we're inside or outside the lens\n",
    "                if(ray.objIndex == -1):\n",
    "                    n1 = self.nMedium\n",
    "                    n2 = self.lens.refractiveIndex\n",
    "                else:\n",
    "                    n1 = self.lens.refractiveIndex#this could be generalized fairly easily by having the objIndex index the list of our lenses\n",
    "                    n2 = self.nMedium\n",
    "                wavelength = ray.wavelength\n",
    "                if(theta1 >= thetaCritical(n1(wavelength),n2(wavelength))):#internal reflection case need to do this still\n",
    "                    continue\n",
    "                theta2 = np.arcsin((n1(wavelength)/n2(wavelength))*np.sin(theta1))\n",
    "                xN, yN = normalVector\n",
    "                refractedRay1 = [-xN*np.cos(-theta2) + yN*np.sin(-theta2), \\\n",
    "                         -xN*np.sin(-theta2) - yN*np.cos(-theta2)]\n",
    "                refractedRay2 = [-xN*np.cos(theta2) + yN*np.sin(theta2), \\\n",
    "                         -xN*np.sin(theta2) - yN*np.cos(theta2)]\n",
    "                if(np.dot(refractedRay1, ray.unitVector) < np.dot(refractedRay2, ray.unitVector)):\n",
    "                    refractedRay = refractedRay1\n",
    "                else:\n",
    "                    refractedRay = refractedRay2\n",
    "                ray.angleHistory.append(theta1)\n",
    "                ray.angleHistory.append(theta2)\n",
    "                refractedXaxisTheta = np.arctan2(refractedRay[1],refractedRay[0])#new theta of refracted ray relative to x axis\n",
    "                if(refractedXaxisTheta < 0):#gotta stay in the \"right\" quadrant\n",
    "                    refractedXaxisTheta += np.pi\n",
    "                refractedRayIntercept = xMin - refractedRay[0]/refractedRay[1]*yMin#new x intercept\n",
    "                if(n2 == self.nMedium):\n",
    "                    objI = 0\n",
    "                else:\n",
    "                    objI = 1\n",
    "                ray.update_location_history(xMin,yMin,refractedXaxisTheta,objI)\n",
    "            passes+=1\n",
    "        #massive sadness ahead as we do the plots\n",
    "    def plotter(self,fig):\n",
    "        sub = fig.add_subplot(111)\n",
    "        surfaceList = self.lens.surfaceList\n",
    "        #first we have to handle graphing the lens or lenses\n",
    "        for s in range(len(surfaceList)):\n",
    "            domain, surfaces = surfaceList[s]\n",
    "            if(len(domain) == 1):#this will need some refining for the 4 point case\n",
    "                x = domain[0]\n",
    "                xList = [x]*len(surfaces)\n",
    "                sub.plot(xList,surfaces)\n",
    "            else:\n",
    "                x = np.linspace(domain[0],domain[1],1000)\n",
    "                for function in surfaces:#this will probably need special handling for constant functions\n",
    "                    if(function(1) == function(2) and function(1) == function(1.5)):#this seems to be a constant function\n",
    "                        yList = [function(1)]*len(x)\n",
    "                    else:\n",
    "                        yList = function(x)\n",
    "                    sub.plot(x, yList)\n",
    "        rayList = self.listOfRays\n",
    "        for i in range(len(rayList)):\n",
    "            xAx, yAx = zip(*rayList[i].locationHistory)\n",
    "            xAxList, yAxList = list(xAx), list(yAx)\n",
    "            #print(xAxList,yAxList)\n",
    "            length = len(xAx)\n",
    "            if(rayList[i].slopeFromRight == 0):\n",
    "                if(rayList[i].slope < 0):\n",
    "                    xAxList.append(xAxList[length-1]-5)\n",
    "                    yAxList.append(yAxList[length-1]-5*rayList[i].slope)\n",
    "                else:\n",
    "                    xAxList.append(xAxList[length-1]+5)\n",
    "                    yAxList.append(yAxList[length-1]+5*rayList[i].slope)\n",
    "            else:\n",
    "                if(rayList[i].slope > 0):\n",
    "                    xAxList.append(xAxList[length-1]+5)\n",
    "                    yAxList.append(yAxList[length-1]+5*rayList[i].slope)\n",
    "                else:\n",
    "                    xAxList.append(xAxList[length-1]-5)\n",
    "                    yAxList.append(yAxList[length-1]-5*rayList[i].slope)\n",
    "            sub.plot(xAxList,yAxList, 'm')\n",
    "\n",
    "        #plt.gca().invert_yaxis()\n",
    "        #plt.show()\n",
    "            "
   ]
  },
  {
   "cell_type": "markdown",
   "metadata": {},
   "source": [
    "bug list:\n",
    "1. problem with getting the surface finding feature to \"jump\" to the next surface, i.e. not just have the ray stand still\n",
    "2. problem with refracting off of the flat sides in a concave lens\n",
    "3. there probably should be explicit handling for vertical incoming rays\n",
    "4. the meniscus concave predefined doesn't seem to work, unsure why\n",
    "    removing the passes patch seemed to make some progress\n"
   ]
  },
  {
   "cell_type": "code",
   "execution_count": 151,
   "metadata": {
    "collapsed": false
   },
   "outputs": [
    {
     "name": "stderr",
     "output_type": "stream",
     "text": [
      "C:\\Anaconda2\\envs\\python3\\lib\\site-packages\\ipykernel\\__main__.py:14: RuntimeWarning: invalid value encountered in arcsin\n"
     ]
    }
   ],
   "source": [
    "#tester cell\n",
    "#5,-1,10, np.pi/3, 2*np.pi/3\n",
    "myRayList = RayGenerator(5,-1,20,\"point_source\",startAngle=np.pi/3,stopAngle=2*np.pi/3)\n",
    "myLens = lens.predefined(\"meniscus concave\",lambda x: 1.8)\n",
    "theDriver = driver(lambda x:1,myRayList.theRayList,myLens)\n",
    "theDriver.rayFunc()\n",
    "fig = plt.figure()\n",
    "theDriver.plotter(fig)\n",
    "plt.ylim(-1,10)\n",
    "plt.show()\n",
    "#for ray in theDriver.listOfRays:\n",
    "#    print(ray.angleHistory)"
   ]
  },
  {
   "cell_type": "code",
   "execution_count": null,
   "metadata": {
    "collapsed": false
   },
   "outputs": [],
   "source": [
    "#to figure out the surface intersection bit try extending the surfaces past where the functions are limited to, this is not a \n",
    "#permenate solution but is some sort of stop gap measure"
   ]
  },
  {
   "cell_type": "code",
   "execution_count": 3,
   "metadata": {
    "collapsed": true
   },
   "outputs": [],
   "source": []
  },
  {
   "cell_type": "code",
   "execution_count": null,
   "metadata": {
    "collapsed": false
   },
   "outputs": [],
   "source": []
  },
  {
   "cell_type": "code",
   "execution_count": null,
   "metadata": {
    "collapsed": false
   },
   "outputs": [],
   "source": []
  },
  {
   "cell_type": "code",
   "execution_count": 16,
   "metadata": {
    "collapsed": false
   },
   "outputs": [
    {
     "name": "stderr",
     "output_type": "stream",
     "text": [
      "C:\\Anaconda2\\envs\\python3\\lib\\site-packages\\ipykernel\\__main__.py:11: RuntimeWarning: invalid value encountered in arcsin\n",
      "C:\\Anaconda2\\envs\\python3\\lib\\site-packages\\ipykernel\\__main__.py:8: RuntimeWarning: invalid value encountered in sqrt\n",
      "C:\\Anaconda2\\envs\\python3\\lib\\site-packages\\ipykernel\\__main__.py:15: RuntimeWarning: invalid value encountered in sqrt\n"
     ]
    }
   ],
   "source": []
  },
  {
   "cell_type": "code",
   "execution_count": 17,
   "metadata": {
    "collapsed": false
   },
   "outputs": [],
   "source": []
  },
  {
   "cell_type": "code",
   "execution_count": 12,
   "metadata": {
    "collapsed": false
   },
   "outputs": [],
   "source": [
    "#for i in b:\n",
    "#    print(i.angleHistory)"
   ]
  },
  {
   "cell_type": "code",
   "execution_count": 1,
   "metadata": {
    "collapsed": true
   },
   "outputs": [],
   "source": [
    "myList = [1,2,3]"
   ]
  },
  {
   "cell_type": "code",
   "execution_count": 2,
   "metadata": {
    "collapsed": true
   },
   "outputs": [],
   "source": [
    "g,h,j = myList"
   ]
  },
  {
   "cell_type": "code",
   "execution_count": 3,
   "metadata": {
    "collapsed": false
   },
   "outputs": [
    {
     "name": "stdout",
     "output_type": "stream",
     "text": [
      "1\n"
     ]
    }
   ],
   "source": [
    "print(g)"
   ]
  },
  {
   "cell_type": "code",
   "execution_count": null,
   "metadata": {
    "collapsed": true
   },
   "outputs": [],
   "source": []
  },
  {
   "cell_type": "code",
   "execution_count": 26,
   "metadata": {
    "collapsed": false
   },
   "outputs": [],
   "source": [
    "a = [[1,2],[3,4,5]]\n",
    "b,c = a"
   ]
  },
  {
   "cell_type": "code",
   "execution_count": 27,
   "metadata": {
    "collapsed": false
   },
   "outputs": [
    {
     "name": "stdout",
     "output_type": "stream",
     "text": [
      "[1, 2] [3, 4, 5]\n"
     ]
    }
   ],
   "source": [
    "print(b,c)"
   ]
  },
  {
   "cell_type": "code",
   "execution_count": 96,
   "metadata": {
    "collapsed": false
   },
   "outputs": [
    {
     "data": {
      "text/plain": [
       "45.0"
      ]
     },
     "execution_count": 96,
     "metadata": {},
     "output_type": "execute_result"
    }
   ],
   "source": [
    "np.arccos(np.dot([(2)**(-1/2),2**(-1/2)],[1,0]))*180/np.pi"
   ]
  },
  {
   "cell_type": "code",
   "execution_count": null,
   "metadata": {
    "collapsed": true
   },
   "outputs": [],
   "source": []
  }
 ],
 "metadata": {
  "kernelspec": {
   "display_name": "Python 3",
   "language": "python",
   "name": "python3"
  },
  "language_info": {
   "codemirror_mode": {
    "name": "ipython",
    "version": 3
   },
   "file_extension": ".py",
   "mimetype": "text/x-python",
   "name": "python",
   "nbconvert_exporter": "python",
   "pygments_lexer": "ipython3",
   "version": "3.5.1"
  }
 },
 "nbformat": 4,
 "nbformat_minor": 0
}
